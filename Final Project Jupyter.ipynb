{
 "cells": [
  {
   "cell_type": "code",
   "execution_count": 1,
   "metadata": {
    "id": "sYjcwGh0xol7"
   },
   "outputs": [],
   "source": [
    "import matplotlib.pyplot as plt\n",
    "import pandas as pd\n",
    "import numpy as np\n",
    "import random\n",
    "import tensorflow\n",
    "import seaborn as sns\n",
    "from tensorflow import keras\n",
    "from keras.datasets import mnist\n",
    "from keras.utils.np_utils import to_categorical\n",
    "from keras.models import Sequential\n",
    "from keras import layers\n",
    "from sklearn.model_selection import train_test_split\n",
    "from sklearn.metrics import precision_score, recall_score, f1_score, accuracy_score\n",
    "from keras.preprocessing.image import load_img\n",
    "from keras.preprocessing.image import img_to_array\n",
    "from sklearn.metrics import confusion_matrix"
   ]
  },
  {
   "cell_type": "markdown",
   "metadata": {
    "id": "S2f9NutXH_8M"
   },
   "source": [
    "## **Loading and splitting the dataset**"
   ]
  },
  {
   "cell_type": "code",
   "execution_count": 3,
   "metadata": {
    "id": "yq9AsO9Xxux5"
   },
   "outputs": [],
   "source": [
    "(trainX, trainy), (testX, testy) = mnist.load_data()"
   ]
  },
  {
   "cell_type": "code",
   "execution_count": 4,
   "metadata": {
    "colab": {
     "base_uri": "https://localhost:8080/"
    },
    "id": "ykhMyVssxzEn",
    "outputId": "d4064188-ee6f-43c6-9ca0-cf95e1b03081"
   },
   "outputs": [
    {
     "name": "stdout",
     "output_type": "stream",
     "text": [
      "70000\n",
      "70000\n"
     ]
    }
   ],
   "source": [
    "train = np.concatenate((trainX,testX)) \n",
    "test = np.concatenate((trainy,testy)) \n",
    "print(len(train))\n",
    "print(len(test))"
   ]
  },
  {
   "cell_type": "code",
   "execution_count": 6,
   "metadata": {
    "id": "5f1gwVF6y2ly"
   },
   "outputs": [],
   "source": [
    "data_train, data_test, target_train, target_test =  train_test_split(train,test,stratify=test, test_size=0.25,random_state=42)"
   ]
  },
  {
   "cell_type": "code",
   "execution_count": 7,
   "metadata": {
    "colab": {
     "base_uri": "https://localhost:8080/"
    },
    "id": "_z28Df3JzQa9",
    "outputId": "73994697-a937-4625-ba46-004aee7db46d"
   },
   "outputs": [
    {
     "name": "stdout",
     "output_type": "stream",
     "text": [
      "52500 52500\n",
      "17500 17500\n"
     ]
    }
   ],
   "source": [
    "print(len(data_train),len(target_train))\n",
    "print(len(data_test),len(target_test))"
   ]
  },
  {
   "cell_type": "markdown",
   "metadata": {
    "id": "wmbzZ7nUM1o5"
   },
   "source": [
    "Selecting 9 random images and displaying them with class labels"
   ]
  },
  {
   "cell_type": "code",
   "execution_count": 8,
   "metadata": {
    "colab": {
     "base_uri": "https://localhost:8080/",
     "height": 657
    },
    "id": "lXDhrnDjzSI8",
    "outputId": "e4b52305-0008-47f2-f6aa-16ecb7a7ec53"
   },
   "outputs": [
    {
     "data": {
      "image/png": "[encoded data removed]",
      "text/plain": [
       "<Figure size 648x648 with 9 Axes>"
      ]
     },
     "metadata": {
      "needs_background": "light"
     },
     "output_type": "display_data"
    }
   ],
   "source": [
    "plt.rcParams['figure.figsize'] = (9,9)\n",
    "\n",
    "for i in range(9):\n",
    "    plt.subplot(3,3,i+1)\n",
    "    r = random.randint(0, len(data_train))\n",
    "    plt.imshow(data_train[r], cmap='gray', interpolation='none')\n",
    "    plt.title(\"Class {}\".format(target_train[r]))\n",
    "    \n",
    "plt.tight_layout()"
   ]
  },
  {
   "cell_type": "code",
   "execution_count": 9,
   "metadata": {
    "colab": {
     "base_uri": "https://localhost:8080/"
    },
    "id": "JZQtiZ9DzaMI",
    "outputId": "c1da448a-c2be-4e4b-df9f-ea49bddf8ded"
   },
   "outputs": [
    {
     "name": "stdout",
     "output_type": "stream",
     "text": [
      "0  0  0  0  0  0  0    0    0    0    0    0    0    0    0    0    0    0    0    0   0  0  0  0  0  0  0  0  \n",
      "0  0  0  0  0  0  0    0    0    0    0    0    0    0    0    0    0    0    0    0   0  0  0  0  0  0  0  0  \n",
      "0  0  0  0  0  0  0    0    0    0    0    0    0    0    0    0    0    0    0    0   0  0  0  0  0  0  0  0  \n",
      "0  0  0  0  0  0  0    0    0    0    0    0    0    0    0    0    0    0    0    0   0  0  0  0  0  0  0  0  \n",
      "0  0  0  0  0  0  0    0    0    0    0    0    0    0    0    0    0    0    0    0   0  0  0  0  0  0  0  0  \n",
      "0  0  0  0  0  0  0    0    0    0    0    0    0    0    0    0    0    0    0    0   0  0  0  0  0  0  0  0  \n",
      "0  0  0  0  0  0  0    0    0    0    0    0    0    0   18  116  234  255  202   30   0  0  0  0  0  0  0  0  \n",
      "0  0  0  0  0  0  0    0    0    0    0    0    0   64  199  220  119   91  230  144   0  0  0  0  0  0  0  0  \n",
      "0  0  0  0  0  0  0    0    0    0    0    3  101  236  161   27    0    0   68  235   3  0  0  0  0  0  0  0  \n",
      "0  0  0  0  0  0  0    0    0    0    0  147  245   78    0    0    0    0   48  254  75  0  0  0  0  0  0  0  \n",
      "0  0  0  0  0  0  0    0    0   11  208  225   79    0    0    0    0    0  187  250  61  0  0  0  0  0  0  0  \n",
      "0  0  0  0  0  0  0    0    4  176  247   61    0    0    0    0    0   34  244  186   0  0  0  0  0  0  0  0  \n",
      "0  0  0  0  0  0  0    0  180  254  103    0    0    0    0    0    7  201  238   31   0  0  0  0  0  0  0  0  \n",
      "0  0  0  0  0  0  0   45  246  124    3    0    0    0   15   71  190  254   60    0   0  0  0  0  0  0  0  0  \n",
      "0  0  0  0  0  0  0  122  254   47    0    0    4   64  192  254  254  178    3    0   0  0  0  0  0  0  0  0  \n",
      "0  0  0  0  0  0  0  134  254  124   95  150  196  254  170  163  247   22    0    0   0  0  0  0  0  0  0  0  \n",
      "0  0  0  0  0  0  0   29  182  188  188  188  109   60   42  244  220    0    0    0   0  0  0  0  0  0  0  0  \n",
      "0  0  0  0  0  0  0    0    0    0    0    0    0    0  129  248   58    0    0    0   0  0  0  0  0  0  0  0  \n",
      "0  0  0  0  0  0  0    0    0    0    0    0    0   39  254  177    0    0    0    0   0  0  0  0  0  0  0  0  \n",
      "0  0  0  0  0  0  0    0    0    0    0    0    0  123  235   51    0    0    0    0   0  0  0  0  0  0  0  0  \n",
      "0  0  0  0  0  0  0    0    0    0    0    0    6  201  188    0    0    0    0    0   0  0  0  0  0  0  0  0  \n",
      "0  0  0  0  0  0  0    0    0    0    0    0  106  254   70    0    0    0    0    0   0  0  0  0  0  0  0  0  \n",
      "0  0  0  0  0  0  0    0    0    0    0    0  189  187    0    0    0    0    0    0   0  0  0  0  0  0  0  0  \n",
      "0  0  0  0  0  0  0    0    0    0    0  111  252  159    0    0    0    0    0    0   0  0  0  0  0  0  0  0  \n",
      "0  0  0  0  0  0  0    0    0    0    0  161  254  114    0    0    0    0    0    0   0  0  0  0  0  0  0  0  \n",
      "0  0  0  0  0  0  0    0    0    0    0  245  197   17    0    0    0    0    0    0   0  0  0  0  0  0  0  0  \n",
      "0  0  0  0  0  0  0    0    0    0    0    0    0    0    0    0    0    0    0    0   0  0  0  0  0  0  0  0  \n",
      "0  0  0  0  0  0  0    0    0    0    0    0    0    0    0    0    0    0    0    0   0  0  0  0  0  0  0  0  \n"
     ]
    }
   ],
   "source": [
    "# Matrix shows how grayscale images are stored in a array\n",
    "def matprint(mat, fmt=\"g\"):\n",
    "    col = [max([len((\"{:\"+fmt+\"}\").format(x)) for x in col]) for col in mat.T]\n",
    "    for x in mat:\n",
    "        for i, y in enumerate(x):\n",
    "            print((\"{:\"+str(col[i])+fmt+\"}\").format(y), end=\"  \")\n",
    "        print(\"\")\n",
    "       \n",
    "r = random.randint(0, len(data_train))\n",
    "matprint(data_train[r])"
   ]
  },
  {
   "cell_type": "code",
   "execution_count": 10,
   "metadata": {
    "colab": {
     "base_uri": "https://localhost:8080/"
    },
    "id": "d5dURWJhPeSl",
    "outputId": "481e1bd1-c1f8-4d3c-b670-21f28a715f63"
   },
   "outputs": [
    {
     "data": {
      "text/plain": [
       "array([9, 2, 8, ..., 1, 1, 7], dtype=uint8)"
      ]
     },
     "execution_count": 10,
     "metadata": {},
     "output_type": "execute_result"
    }
   ],
   "source": [
    "target_train   #contains list of label values of the image "
   ]
  },
  {
   "cell_type": "markdown",
   "metadata": {
    "id": "VcaDRCs3qUM5"
   },
   "source": [
    "## **Preprocessing the dataset**"
   ]
  },
  {
   "cell_type": "code",
   "execution_count": 11,
   "metadata": {
    "colab": {
     "base_uri": "https://localhost:8080/"
    },
    "id": "6J8wdK29zxyQ",
    "outputId": "f77118dc-a100-475b-8109-a04a0c2462da"
   },
   "outputs": [
    {
     "name": "stdout",
     "output_type": "stream",
     "text": [
      "Training matrix shape (52500, 28, 28, 1)\n",
      "Testing matrix shape (17500, 28, 28, 1)\n"
     ]
    }
   ],
   "source": [
    "def preproc(data_train,data_test):\n",
    "  data_train = data_train.reshape((data_train.shape[0], 28, 28, 1))\n",
    "  data_test = data_test.reshape((data_test.shape[0], 28, 28, 1))\n",
    "  \n",
    "  data_train = data_train.astype('float32')   # change integers to 32-bit floating point numbers\n",
    "  data_test = data_test.astype('float32')\n",
    "\n",
    "  data_train /= 255.0                       # normalize each value for each pixel for the entire vector for each input\n",
    "  data_test /= 255.0\n",
    "  return data_train, data_test\n",
    "data_train,data_test= preproc(data_train,data_test)\n",
    "print(\"Training matrix shape\", data_train.shape)\n",
    "print(\"Testing matrix shape\", data_test.shape)"
   ]
  },
  {
   "cell_type": "code",
   "execution_count": 12,
   "metadata": {
    "id": "ppw6YL7R1fiY"
   },
   "outputs": [],
   "source": [
    "classes =len(np.unique(target_train))\n",
    "y_train = to_categorical(target_train,classes)  #Categorically encode the labels\n",
    "y_test = to_categorical(target_test,classes)"
   ]
  },
  {
   "cell_type": "markdown",
   "metadata": {
    "id": "pZf69LlDqJR_"
   },
   "source": [
    "## **Defining the model**"
   ]
  },
  {
   "cell_type": "code",
   "execution_count": 13,
   "metadata": {
    "colab": {
     "base_uri": "https://localhost:8080/"
    },
    "id": "Lx2VBJw_1lxM",
    "outputId": "d913e806-0d91-4748-d650-896039c91800"
   },
   "outputs": [
    {
     "name": "stdout",
     "output_type": "stream",
     "text": [
      "Model: \"sequential\"\n",
      "_________________________________________________________________\n",
      " Layer (type)                Output Shape              Param #   \n",
      "=================================================================\n",
      " conv2d (Conv2D)             (None, 26, 26, 32)        320       \n",
      "                                                                 \n",
      " max_pooling2d (MaxPooling2D  (None, 13, 13, 32)       0         \n",
      " )                                                               \n",
      "                                                                 \n",
      " conv2d_1 (Conv2D)           (None, 11, 11, 64)        18496     \n",
      "                                                                 \n",
      " max_pooling2d_1 (MaxPooling  (None, 5, 5, 64)         0         \n",
      " 2D)                                                             \n",
      "                                                                 \n",
      " flatten (Flatten)           (None, 1600)              0         \n",
      "                                                                 \n",
      " dropout (Dropout)           (None, 1600)              0         \n",
      "                                                                 \n",
      " dense (Dense)               (None, 10)                16010     \n",
      "                                                                 \n",
      "=================================================================\n",
      "Total params: 34,826\n",
      "Trainable params: 34,826\n",
      "Non-trainable params: 0\n",
      "_________________________________________________________________\n"
     ]
    }
   ],
   "source": [
    "model = keras.Sequential(\n",
    "    [\n",
    "        keras.Input(shape=(28,28,1)),\n",
    "        #first hidden layer\n",
    "        layers.Conv2D(32, kernel_size=(3, 3), activation=\"relu\"),\n",
    "        layers.MaxPooling2D(pool_size=(2, 2)),\n",
    "        #second hidden layer\n",
    "        layers.Conv2D(64, kernel_size=(3, 3), activation=\"relu\"),\n",
    "        layers.MaxPooling2D(pool_size=(2, 2)),\n",
    "        layers.Flatten(),\n",
    "        #output layer\n",
    "        layers.Dropout(0.5),\n",
    "        layers.Dense(classes, activation=\"softmax\"),\n",
    "    ]\n",
    ")\n",
    "\n",
    "model.summary()"
   ]
  },
  {
   "cell_type": "markdown",
   "metadata": {
    "id": "36_40kADaP8c"
   },
   "source": [
    "# **Compilation**"
   ]
  },
  {
   "cell_type": "code",
   "execution_count": 14,
   "metadata": {
    "id": "aHfrZV-httho"
   },
   "outputs": [],
   "source": [
    "# compile model\n",
    "model.compile(loss=\"categorical_crossentropy\", optimizer=\"adam\", metrics=[\"accuracy\"])"
   ]
  },
  {
   "cell_type": "markdown",
   "metadata": {
    "id": "Bfwo-NNDpfOy"
   },
   "source": [
    "## **Train the model**"
   ]
  },
  {
   "cell_type": "code",
   "execution_count": 15,
   "metadata": {
    "colab": {
     "base_uri": "https://localhost:8080/"
    },
    "id": "W8Xk1wOt1qbC",
    "outputId": "438e80a8-3865-4406-f902-903f68e35376"
   },
   "outputs": [
    {
     "name": "stdout",
     "output_type": "stream",
     "text": [
      "Epoch 1/15\n",
      "370/370 [==============================] - 12s 32ms/step - loss: 0.3932 - accuracy: 0.8781 - val_loss: 0.1092 - val_accuracy: 0.9688\n",
      "Epoch 2/15\n",
      "370/370 [==============================] - 10s 28ms/step - loss: 0.1142 - accuracy: 0.9645 - val_loss: 0.0768 - val_accuracy: 0.9770\n",
      "Epoch 3/15\n",
      "370/370 [==============================] - 11s 29ms/step - loss: 0.0863 - accuracy: 0.9734 - val_loss: 0.0624 - val_accuracy: 0.9804\n",
      "Epoch 4/15\n",
      "370/370 [==============================] - 10s 28ms/step - loss: 0.0716 - accuracy: 0.9781 - val_loss: 0.0556 - val_accuracy: 0.9827\n",
      "Epoch 5/15\n",
      "370/370 [==============================] - 10s 28ms/step - loss: 0.0626 - accuracy: 0.9803 - val_loss: 0.0518 - val_accuracy: 0.9836\n",
      "Epoch 6/15\n",
      "370/370 [==============================] - 11s 29ms/step - loss: 0.0576 - accuracy: 0.9830 - val_loss: 0.0468 - val_accuracy: 0.9846\n",
      "Epoch 7/15\n",
      "370/370 [==============================] - 11s 29ms/step - loss: 0.0513 - accuracy: 0.9840 - val_loss: 0.0437 - val_accuracy: 0.9859\n",
      "Epoch 8/15\n",
      "370/370 [==============================] - 11s 29ms/step - loss: 0.0475 - accuracy: 0.9855 - val_loss: 0.0427 - val_accuracy: 0.9869\n",
      "Epoch 9/15\n",
      "370/370 [==============================] - 11s 29ms/step - loss: 0.0441 - accuracy: 0.9863 - val_loss: 0.0390 - val_accuracy: 0.9863\n",
      "Epoch 10/15\n",
      "370/370 [==============================] - 11s 29ms/step - loss: 0.0410 - accuracy: 0.9871 - val_loss: 0.0385 - val_accuracy: 0.9870\n",
      "Epoch 11/15\n",
      "370/370 [==============================] - 11s 30ms/step - loss: 0.0390 - accuracy: 0.9872 - val_loss: 0.0374 - val_accuracy: 0.9876\n",
      "Epoch 12/15\n",
      "370/370 [==============================] - 12s 32ms/step - loss: 0.0369 - accuracy: 0.9886 - val_loss: 0.0383 - val_accuracy: 0.9865\n",
      "Epoch 13/15\n",
      "370/370 [==============================] - 11s 31ms/step - loss: 0.0334 - accuracy: 0.9892 - val_loss: 0.0369 - val_accuracy: 0.9880\n",
      "Epoch 14/15\n",
      "370/370 [==============================] - 11s 28ms/step - loss: 0.0332 - accuracy: 0.9896 - val_loss: 0.0360 - val_accuracy: 0.9874\n",
      "Epoch 15/15\n",
      "370/370 [==============================] - 10s 28ms/step - loss: 0.0333 - accuracy: 0.9894 - val_loss: 0.0368 - val_accuracy: 0.9895\n"
     ]
    },
    {
     "data": {
      "text/plain": [
       "<keras.callbacks.History at 0x17c84012fd0>"
      ]
     },
     "execution_count": 15,
     "metadata": {},
     "output_type": "execute_result"
    }
   ],
   "source": [
    "batch_size = 128\n",
    "epochs = 15\n",
    "\n",
    "model.fit(data_train, y_train, batch_size=batch_size, epochs=epochs, validation_split=0.1)"
   ]
  },
  {
   "cell_type": "markdown",
   "metadata": {
    "id": "__eA-x1HprEb"
   },
   "source": [
    "## **Model Performance**"
   ]
  },
  {
   "cell_type": "code",
   "execution_count": 16,
   "metadata": {
    "colab": {
     "base_uri": "https://localhost:8080/"
    },
    "id": "oVNXj7HX1zXR",
    "outputId": "8883d907-183a-4d96-d3c1-c09000c24ea7",
    "scrolled": true
   },
   "outputs": [
    {
     "name": "stdout",
     "output_type": "stream",
     "text": [
      "547/547 [==============================] - 2s 3ms/step - loss: 0.0300 - accuracy: 0.9909\n",
      "Test loss: 0.029985127970576286\n",
      "Test accuracy: 0.9909142851829529\n"
     ]
    }
   ],
   "source": [
    "score = model.evaluate(data_test,y_test)\n",
    "print('Test loss:', score[0]) \n",
    "print('Test accuracy:', score[1])"
   ]
  },
  {
   "cell_type": "code",
   "execution_count": 17,
   "metadata": {
    "id": "WFHANkZVL1Eg"
   },
   "outputs": [],
   "source": [
    "predicts = model.predict(data_test)"
   ]
  },
  {
   "cell_type": "code",
   "execution_count": 18,
   "metadata": {
    "colab": {
     "base_uri": "https://localhost:8080/"
    },
    "id": "8Zz8Pq9dL6Ic",
    "outputId": "38eca453-f1a9-4eed-d481-ab49eeda4a3f"
   },
   "outputs": [
    {
     "name": "stdout",
     "output_type": "stream",
     "text": [
      "[4, 1, 4, 7, 7, 6, 4, 7, 7, 3, 0, 1, 0, 1, 2, 2, 3, 4, 6, 5, 0, 7, 0, 8, 7, 0, 0, 4, 7, 4, 1, 2, 1, 6, 1, 8, 1, 8, 6, 2, 0, 5, 3, 1, 0, 9, 6, 1, 2, 5, 4, 3, 6, 3, 8, 0, 6, 0, 8, 3, 4, 1, 3, 4, 9, 8, 5, 3, 0, 6, 0, 2, 0, 1, 7, 6, 3, 8, 1, 9, 4, 1, 4, 4, 5, 7, 2, 1, 7, 0, 0, 0, 8, 4, 8, 7, 0, 7, 2, 5, 5, 1, 2, 7, 9, 3, 3, 8, 0, 2, 3, 6, 1, 7, 6, 0, 8, 4, 1, 0, 5, 7, 9, 1, 5, 8, 5, 5, 9, 4, 9, 5, 4, 4, 8, 6, 6, 5, 3, 4, 2, 9, 9, 5, 1, 2, 8, 6, 7, 0, 9, 4, 6, 8, 1, 6, 7, 7, 1, 7, 2, 5, 0, 1, 6, 4, 2, 6, 9, 4, 8, 9, 1, 8, 5, 5, 9, 2, 4, 9, 2, 6, 8, 1, 8, 1, 8, 9, 4, 5, 7, 2, 7, 6, 4, 4, 2, 4, 1, 9, 4, 5, 4, 3, 2, 3, 7, 0, 4, 4, 7, 0, 6, 3, 9, 7, 9, 9, 1, 2, 3, 7, 3, 7, 1, 6, 0, 3, 0, 9, 0, 2, 6, 5, 8, 3, 9, 9, 7, 2, 0, 7, 7, 5, 8, 7, 2, 9, 2, 4, 3, 3, 0, 5, 3, 7, 8, 9, 7, 1, 9, 8, 4, 5, 2, 9, 5, 2, 1, 2, 6, 6, 9, 0, 5, 8, 3, 8, 3, 5, 5, 9, 3, 8, 0, 5, 4, 8, 9, 1, 8, 2, 9, 6, 5, 9, 4, 0, 8, 1, 4, 1, 8, 9, 0, 9, 7, 0, 8, 2, 7, 2, 4, 9, 9, 5, 4, 5, 3, 9, 5, 4, 6, 5, 5, 5, 6, 4, 9, 7, 1, 8, 5, 0, 5, 2, 5, 0, 9, 2, 6, 9, 1, 4, 7, 0, 4, 3, 2, 1, 6, 1, 7, 0, 9, 7, 1, 3, 5, 3, 2, 9, 6, 9, 5, 7, 8, 8, 7, 4, 9, 9, 8, 6, 8, 2, 2, 2, 4, 3, 7, 2, 5, 2, 0, 7, 7, 2, 4, 9, 4, 0, 9, 2, 3, 1, 8, 7, 7, 4, 3, 5, 1, 6, 3, 3, 6, 1, 3, 6, 2, 7, 9, 2, 0, 4, 2, 0, 7, 5, 2, 3, 2, 7, 2, 2, 6, 2, 5, 0, 3, 4, 1, 6, 7, 9, 4, 7, 1, 9, 5, 7, 5, 8, 6, 6, 2, 2, 3, 8, 7, 7, 8, 1, 3, 4, 9, 8, 6, 1, 7, 6, 5, 1, 2, 7, 6, 6, 2, 1, 1, 9, 9, 7, 1, 9, 5, 7, 0, 8, 7, 3, 7, 9, 9, 9, 5, 0, 6, 6, 2, 0, 3, 8, 3, 8, 1, 9, 9, 3, 5, 1, 0, 9, 2, 6, 4, 9, 4, 8, 7, 7, 2, 1, 8, 1, 2, 1, 4, 2, 2, 2, 6, 2, 7, 8, 7, 8, 2, 9, 1, 7, 2, 2, 5, 5, 6, 0, 6, 6, 3, 1, 2, 3, 9, 7, 2, 8, 6, 6, 8, 0, 4, 7, 9, 7, 7, 7, 4, 0, 3, 7, 7, 1, 9, 5, 8, 6, 9, 6, 1, 6, 5, 1, 2, 4, 8, 7, 1, 0, 9, 2, 6, 4, 7, 1, 8, 2, 2, 6, 9, 7, 7, 4, 3, 9, 0, 4, 1, 8, 1, 9, 5, 5, 9, 4, 3, 8, 6, 7, 4, 1, 7, 9, 0, 1, 3, 2, 1, 1, 7, 6, 3, 8, 8, 4, 9, 1, 6, 9, 6, 7, 8, 3, 6, 1, 2, 7, 8, 7, 9, 4, 8, 6, 3, 4, 0, 8, 5, 1, 2, 7, 2, 3, 3, 3, 6, 3, 7, 7, 8, 2, 5, 4, 3, 0, 2, 4, 7, 3, 5, 7, 8, 9, 7, 2, 0, 9, 1, 0, 6, 3, 1, 2, 0, 8, 0, 6, 7, 0, 4, 7, 6, 5, 4, 9, 0, 5, 7, 6, 1, 8, 4, 0, 1, 9, 6, 7, 7, 6, 2, 9, 4, 7, 4, 5, 6, 2, 5, 1, 4, 8, 0, 5, 2, 2, 1, 3, 5, 3, 1, 1, 0, 5, 4, 6, 9, 6, 2, 8, 6, 7, 9, 7, 2, 4, 0, 0, 8, 2, 1, 0, 5, 7, 1, 0, 5, 2, 8, 2, 6, 3, 6, 0, 5, 1, 3, 2, 1, 3, 6, 5, 2, 3, 6, 9, 6, 4, 3, 0, 4, 0, 8, 5, 7, 5, 4, 0, 5, 9, 2, 7, 8, 7, 1, 8, 6, 1, 1, 4, 4, 1, 3, 4, 2, 6, 2, 5, 7, 7, 4, 2, 6, 1, 1, 9, 0, 9, 0, 8, 8, 2, 3, 8, 0, 8, 3, 4, 5, 7, 9, 1, 5, 4, 5, 7, 9, 2, 4, 6, 7, 8, 0, 4, 1, 3, 3, 3, 4, 3, 7, 6, 0, 9, 6, 7, 6, 7, 8, 7, 8, 4, 6, 6, 3, 7, 4, 2, 7, 4, 1, 4, 3, 0, 0, 9, 4, 7, 6, 1, 9, 1, 8, 7, 0, 2, 1, 5, 5, 2, 6, 0, 1, 8, 5, 0, 4, 9, 8, 8, 3, 9, 1, 6, 1, 0, 9, 6, 4, 7, 0, 8, 0, 9, 4, 4, 6, 0, 3, 3, 4, 7, 8, 7, 4, 5, 2, 9, 1, 0, 9, 1, 1, 3, 8, 4, 5, 0, 5, 3, 9, 0, 3, 1, 8, 1, 8, 2, 8, 9, 4, 1, 8, 0, 9, 9, 0, 7, 1, 8, 1, 6, 0, 8, 8, 9, 2, 8, 8, 4, 7, 1, 3, 1, 7, 9, 2, 5, 6, 5, 5, 4, 7, 3, 8, 2, 2, 1, 9, 3, 3, 3, 3, 5, 1, 1, 0, 3, 1, 5, 4, 4, 2, 9, 0, 8, 7, 6, 0, 0, 1, 4, 2, 1, 3, 5, 8, 0, 0, 8, 8, 1, 6, 4, 7, 7, 1, 6, 4, 8, 3, 5, 3, 1, 9, 4, 9, 8, 2, 3, 0, 9, 6, 7, 2, 1, 1, 3, 2, 2, 2, 6, 9, 0, 5, 8, 9, 2, 0, 5, 7, 2, 9, 1, 1, 2, 0, 7, 0, 7, 9, 3, 4, 8, 8, 3, 4, 9, 0, 4, 7, 5, 2, 2, 5, 8, 7, 2, 4, 5, 0, 5, 2, 1, 6, 5, 0, 0, 7, 5, 6, 9, 4, 5, 7, 8, 9, 5, 0, 0, 9, 2, 7, 7, 1, 2, 4, 4, 9, 8, 7, 4, 1, 8, 0, 9, 7, 6, 3, 0, 6, 6, 7, 7, 0, 1, 8, 5, 2, 5, 8, 9, 8, 0, 7, 2, 2, 5, 2, 4, 5, 4, 1, 9, 7, 8, 4, 5, 9, 7, 8, 9, 6, 2, 1, 0, 0, 0, 4, 4, 2, 6, 9, 8, 7, 5, 5, 5, 4, 9, 8, 2, 5, 5, 7, 9, 0, 8, 9, 6, 7, 6, 1, 1, 9, 4, 6, 7, 2, 8, 7, 2, 0, 1, 3, 8, 0, 9, 6, 1, 5, 6, 0, 9, 2, 5, 3, 1, 2, 4, 1, 5, 5, 2, 2, 7, 9, 0, 4, 0, 8, 9, 9, 1, 7, 3, 0, 6, 0, 9, 5, 0, 5, 4, 2, 1, 3, 6, 1, 0, 6, 9, 3, 2, 1, 3, 5, 3, 8, 6, 8, 4, 6, 4, 9, 9, 8, 4, 6, 1, 4, 7, 9, 3, 0, 2, 4, 7, 1, 8, 4, 2, 7, 3, 8, 0, 4, 3, 7, 8, 9, 6, 2, 2, 8, 7, 0, 4, 4, 5, 9, 8, 4, 0, 8, 6, 9, 9, 8, 4, 2, 0, 1, 0, 6, 6, 5, 6, 1, 2, 6, 3, 1, 0, 2, 2, 0, 3, 0, 4, 7, 7, 8, 9, 2, 2, 1, 0, 8, 3, 9, 6, 1, 3, 0, 9, 8, 0, 9, 8, 4, 4, 9, 8, 4, 0, 0, 8, 5, 7, 9, 2, 5, 2, 1, 0, 1, 4, 4, 8, 4, 6, 6, 1, 9, 0, 8, 7, 9, 2, 8, 9, 4, 6, 4, 9, 2, 0, 2, 1, 8, 7, 4, 1, 3, 3, 8, 1, 5, 3, 4, 5, 3, 5, 3, 0, 4, 4, 2, 5, 8, 1, 5, 9, 6, 2, 7, 6, 5, 1, 8, 0, 6, 2, 5, 1, 0, 5, 9, 8, 4, 0, 5, 4, 9, 2, 3, 9, 7, 6, 0, 7, 6, 7, 7, 6, 9, 4, 3, 4, 2, 7, 4, 7, 5, 2, 3, 0, 0, 6, 6, 7, 5, 1, 2, 4, 6, 0, 4, 8, 3, 1, 0, 6, 8, 4, 2, 0, 7, 1, 4, 6, 6, 9, 4, 7, 8, 2, 0, 6, 0, 3, 4, 8, 1, 8, 2, 3, 1, 4, 2, 9, 0, 3, 4, 9, 3, 3, 5, 0, 1, 4, 3, 7, 1, 6, 1, 6, 7, 8, 9, 1, 9, 0, 2, 7, 6, 8, 3, 9, 4, 0, 3, 6, 0, 6, 0, 9, 5, 0, 3, 8, 4, 3, 4, 0, 8, 1, 7, 8, 5, 9, 7, 0, 8, 1, 7, 9, 6, 4, 0, 5, 9, 7, 9, 8, 0, 6, 1, 0, 6, 8, 2, 7, 3, 1, 4, 0, 2, 2, 1, 5, 4, 3, 1, 8, 3, 5, 2, 6, 0, 3, 5, 3, 1, 4, 0, 4, 8, 6, 1, 9, 6, 3, 7, 6, 5, 0, 6, 1, 8, 6, 6, 0, 3, 2, 0, 5, 8, 3, 7, 8, 8, 7, 8, 4, 0, 2, 4, 4, 7, 3, 5, 1, 1, 5, 7, 1, 7, 3, 8, 9, 4, 1, 9, 2, 6, 1, 6, 6, 1, 5, 0, 1, 2, 0, 1, 7, 8, 0, 0, 0, 4, 1, 9, 3, 2, 0, 2, 3, 8, 3, 9, 8, 2, 8, 3, 2, 0, 5, 1, 6, 8, 8, 7, 6, 5, 4, 7, 6, 2, 4, 6, 8, 1, 3, 7, 9, 1, 6, 0, 7, 2, 8, 9, 5, 5, 9, 5, 1, 2, 6, 3, 9, 6, 1, 0, 1, 3, 8, 4, 5, 4, 1, 6, 5, 9, 8, 3, 8, 5, 7, 4, 6, 7, 8, 3, 7, 4, 2, 6, 1, 9, 1, 9, 9, 8, 5, 5, 2, 3, 2, 2, 0, 8, 9, 1, 1, 7, 6, 4, 7, 0, 9, 4, 7, 3, 1, 8, 6, 0, 8, 8, 8, 3, 1, 5, 5, 2, 4, 2, 0, 3, 1, 7, 3, 5, 0, 5, 4, 6, 8, 1, 6, 4, 7, 1, 8, 1, 8, 5, 4, 6, 2, 5, 5, 3, 9, 5, 7, 8, 8, 6, 7, 6, 2, 9, 4, 3, 5, 9, 5, 9, 8, 7, 5, 2, 9, 2, 9, 2, 1, 8, 5, 5, 8, 5, 5, 1, 0, 6, 9, 0, 7, 1, 9, 3, 2, 1, 7, 2, 4, 0, 5, 1, 5, 0, 9, 5, 0, 5, 7, 2, 9, 6, 3, 4, 0, 1, 9, 6, 4, 6, 8, 6, 1, 0, 1, 1, 5, 8, 4, 4, 2, 1, 4, 4, 8, 6, 5, 2, 3, 5, 5, 3, 4, 2, 5, 6, 9, 8, 0, 3, 6, 9, 6, 7, 4, 4, 5, 9, 0, 7, 7, 5, 9, 7, 2, 3, 1, 5, 9, 8, 3, 6, 8, 3, 2, 1, 8, 4, 1, 1, 3, 1, 0, 4, 0, 7, 9, 0, 1, 2, 4, 2, 1, 4, 2, 5, 7, 1, 4, 6, 1, 1, 4, 8, 1, 0, 4, 0, 8, 4, 3, 5, 4, 0, 7, 6, 6, 4, 6, 0, 6, 8, 1, 3, 3, 9, 2, 8, 8, 5, 4, 0, 7, 0, 1, 7, 8, 0, 6, 2, 1, 2, 6, 1, 2, 8, 7, 7, 5, 3, 4, 3, 8, 1, 9, 0, 9, 4, 6, 6, 2, 3, 3, 0, 9, 7, 4, 4, 3, 9, 6, 1, 3, 2, 5, 5, 4, 5, 6, 3, 9, 1, 7, 8, 6, 9, 3, 6, 9, 2, 0, 0, 0, 6, 0, 7, 5, 1, 4, 6, 3, 7, 1, 7, 4, 3, 1, 1, 1, 7, 4, 6, 1, 0, 6, 9, 8, 1, 2, 7, 1, 9, 9, 2, 9, 6, 2, 4, 2, 4, 8, 1, 3, 2, 1, 9, 4, 5, 1, 8, 9, 7, 4, 4, 4, 2, 7, 1, 0, 0, 0, 5, 3, 1, 5, 5, 2, 0, 2, 4, 6, 2, 6, 2, 6, 2, 9, 3, 7, 8, 6, 4, 9, 9, 6, 2, 0, 8, 2, 6, 5, 5, 1, 0, 4, 6, 1, 7, 2, 9, 6, 9, 2, 7, 2, 0, 8, 4, 6, 4, 5, 6, 0, 5, 6, 8, 7, 7, 4, 0, 8, 6, 5, 4, 3, 5, 7, 5, 6, 1, 0, 8, 9, 3, 6, 6, 4, 3, 4, 9, 4, 4, 4, 3, 4, 8, 7, 1, 2, 7, 7, 9, 7, 3, 4, 8, 0, 6, 7, 4, 8, 0, 4, 2, 9, 0, 3, 0, 4, 8, 9, 4, 3, 6, 6, 1, 2, 6, 3, 0, 2, 5, 1, 1, 4, 4, 7, 2, 7, 9, 6, 3, 2, 4, 1, 2, 4, 6, 2, 5, 1, 9, 3, 5, 4, 2, 6, 8, 1, 8, 7, 3, 1, 7, 0, 5, 4, 1, 3, 8, 3, 3, 0, 3, 9, 4, 7, 6, 3, 6, 6, 4, 9, 2, 5, 1, 6, 9, 2, 5, 4, 9, 4, 8, 5, 5, 5, 8, 9, 2, 4, 7, 2, 7, 1, 5, 1, 9, 7, 8, 0, 6, 5, 6, 8, 1, 6, 8, 4, 9, 9, 7, 7, 5, 7, 6, 3, 3, 0, 9, 8, 6, 4, 3, 9, 7, 3, 6, 3, 0, 2, 1, 8, 2, 8, 7, 4, 9, 8, 6, 4, 4, 8, 2, 8, 0, 8, 9, 9, 0, 8, 5, 3, 1, 3, 4, 7, 9, 6, 4, 3, 4, 0, 0, 5, 9, 6, 3, 6, 2, 8, 2, 8, 2, 2, 9, 2, 9, 6, 8, 2, 9, 6, 5, 5, 3, 2, 7, 0, 9, 1, 4, 3, 1, 1, 9, 0, 7, 0, 5, 1, 8, 0, 6, 9, 0, 7, 9, 0, 6, 9, 7, 7, 4, 7, 5, 3, 9, 7, 9, 5, 0, 2, 6, 1, 1, 3, 3, 2, 3, 0, 4, 1, 8, 2, 6, 8, 3, 2, 5, 1, 8, 8, 5, 2, 3, 7, 4, 4, 1, 3, 4, 0, 5, 1, 2, 4, 8, 3, 3, 1, 3, 3, 5, 7, 2, 8, 2, 1, 8, 7, 7, 3, 3, 7, 4, 7, 6, 8, 8, 1, 7, 8, 0, 6, 8, 6, 7, 8, 2, 0, 6, 4, 2, 1, 1, 9, 5, 4, 2, 0, 1, 3, 5, 5, 3, 1, 2, 5, 1, 5, 7, 1, 6, 1, 1, 6, 2, 8, 1, 0, 9, 1, 9, 5, 5, 5, 4, 4, 9, 2, 1, 4, 3, 8, 8, 9, 7, 6, 1, 5, 2, 3, 9, 1, 0, 0, 3, 6, 4, 5, 8, 2, 0, 5, 0, 2, 1, 8, 5, 1, 0, 6, 2, 6, 5, 0, 5, 8, 6, 6, 7, 5, 7, 1, 6, 0, 2, 1, 6, 2, 6, 3, 1, 5, 7, 9, 8, 4, 4, 1, 5, 5, 4, 2, 4, 2, 7, 3, 3, 2, 7, 4, 6, 1, 0, 6, 7, 1, 1, 9, 8, 7, 7, 7, 6, 5, 5, 6, 7, 5, 4, 0, 3, 8, 2, 7, 5, 8, 7, 4, 0, 1, 1, 1, 5, 5, 3, 7, 9, 0, 5, 7, 9, 6, 1, 7, 5, 6, 4, 1, 1, 0, 8, 0, 9, 6, 0, 4, 1, 7, 8, 0, 6, 9, 9, 2, 3, 2, 8, 7, 5, 8, 2, 4, 2, 1, 1, 4, 7, 2, 5, 3, 7, 5, 8, 4, 8, 9, 7, 6, 3, 0, 2, 1, 7, 8, 1, 5, 9, 5, 2, 8, 1, 3, 9, 6, 7, 8, 5, 3, 1, 2, 7, 7, 2, 3, 8, 4, 6, 9, 6, 8, 3, 3, 9, 3, 2, 9, 0, 7, 4, 1, 3, 5, 6, 0, 0, 0, 6, 3, 5, 0, 9, 2, 5, 1, 9, 2, 9, 9, 2, 6, 8, 7, 8, 5, 9, 3, 3, 7, 0, 8, 3, 4, 7, 3, 1, 2, 4, 3, 1, 1, 2, 5, 8, 4, 0, 2, 0, 2, 3, 3, 5, 7, 0, 9, 1, 4, 8, 3, 5, 1, 8, 8, 2, 1, 6, 7, 5, 8, 8, 1, 4, 6, 9, 9, 1, 5, 5, 2, 5, 0, 0, 8, 3, 4, 1, 3, 5, 8, 9, 3, 6, 7, 0, 9, 7, 8, 8, 7, 3, 5, 0, 2, 1, 9, 8, 2, 0, 9, 9, 1, 0, 5, 2, 4, 5, 3, 2, 0, 7, 3, 5, 7, 8, 1, 4, 9, 8, 5, 0, 3, 0, 0, 9, 0, 7, 4, 4, 7, 9, 3, 3, 5, 2, 0, 0, 9, 5, 9, 6, 5, 2, 5, 4, 7, 2, 1, 9, 6, 6, 8, 4, 1, 4, 5, 5, 5, 4, 3, 4, 3, 2, 1, 9, 2, 7, 9, 2, 5, 2, 5, 8, 1, 7, 7, 6, 1, 5, 1, 4, 2, 1, 0, 1, 0, 7, 1, 0, 9, 3, 2, 6, 1, 6, 9, 9, 6, 6, 4, 2, 4, 6, 3, 2, 8, 0, 9, 6, 8, 7, 4, 8, 1, 4, 0, 5, 2, 6, 1, 6, 5, 5, 0, 6, 9, 6, 0, 5, 7, 9, 2, 1, 6, 0, 2, 5, 9, 1, 1, 8, 6, 3, 1, 4, 7, 6, 2, 7, 9, 1, 1, 9, 0, 0, 7, 3, 6, 6, 1, 7, 2, 1, 0, 8, 7, 5, 0, 3, 7, 5, 2, 5, 0, 3, 0, 8, 8, 2, 8, 6, 1, 6, 2, 7, 4, 2, 2, 7, 5, 1, 8, 2, 3, 1, 7, 3, 6, 1, 6, 5, 9, 3, 5, 3, 3, 7, 8, 4, 5, 0, 7, 6, 6, 7, 1, 9, 4, 0, 4, 9, 3, 2, 6, 4, 3, 9, 4, 6, 1, 4, 4, 3, 3, 7, 9, 9, 6, 7, 8, 0, 4, 5, 5, 4, 8, 9, 1, 8, 5, 8, 6, 6, 4, 2, 0, 7, 8, 3, 3, 7, 6, 4, 2, 4, 2, 6, 2, 1, 3, 4, 5, 1, 1, 6, 1, 3, 7, 0, 5, 4, 6, 3, 9, 4, 6, 5, 5, 1, 7, 2, 0, 6, 6, 3, 7, 3, 6, 0, 8, 8, 4, 0, 6, 3, 8, 9, 5, 4, 6, 5, 6, 1, 2, 3, 5, 3, 3, 3, 4, 6, 7, 9, 4, 6, 6, 4, 3, 8, 9, 9, 1, 5, 9, 2, 1, 8, 1, 4, 2, 4, 3, 4, 6, 6, 9, 4, 1, 9, 5, 7, 6, 7, 3, 2, 6, 6, 6, 7, 8, 3, 6, 6, 9, 4, 0, 4, 7, 4, 4, 0, 6, 0, 6, 0, 4, 5, 5, 7, 0, 9, 3, 3, 8, 3, 2, 4, 7, 5, 1, 7, 5, 7, 0, 8, 2, 3, 0, 5, 8, 0, 0, 4, 0, 7, 7, 5, 3, 0, 0, 3, 5, 3, 1, 5, 9, 6, 5, 1, 8, 6, 1, 5, 2, 1, 6, 0, 3, 1, 3, 2, 2, 1, 6, 9, 0, 1, 8, 1, 2, 6, 9, 1, 9, 5, 0, 7, 8, 3, 7, 9, 6, 2, 0, 2, 6, 3, 5, 9, 4, 2, 4, 6, 8, 7, 9, 4, 1, 6, 4, 8, 9, 8, 2, 1, 2, 4, 9, 9, 5, 2, 3, 4, 3, 2, 7, 1, 4, 1, 3, 0, 6, 5, 0, 8, 3, 6, 2, 9, 9, 9, 2, 6, 4, 0, 0, 7, 0, 1, 0, 9, 3, 3, 5, 4, 3, 3, 1, 6, 7, 3, 3, 6, 4, 3, 0, 4, 6, 3, 6, 6, 1, 8, 8, 0, 3, 0, 1, 7, 5, 9, 4, 4, 9, 6, 0, 1, 0, 9, 7, 7, 0, 3, 0, 9, 2, 4, 3, 4, 8, 6, 3, 5, 0, 3, 6, 2, 6, 0, 2, 8, 7, 5, 2, 5, 0, 2, 0, 8, 6, 8, 5, 0, 9, 2, 3, 5, 7, 4, 6, 2, 4, 1, 2, 6, 8, 6, 8, 7, 9, 7, 9, 4, 8, 0, 0, 0, 9, 3, 7, 5, 7, 0, 8, 1, 8, 1, 2, 6, 5, 4, 6, 7, 2, 1, 5, 6, 3, 8, 5, 6, 1, 2, 5, 7, 2, 4, 8, 6, 7, 4, 2, 0, 6, 1, 7, 8, 4, 2, 3, 2, 3, 4, 3, 5, 4, 5, 2, 7, 4, 9, 9, 8, 9, 5, 2, 1, 1, 3, 8, 3, 5, 8, 2, 7, 4, 5, 8, 6, 0, 4, 9, 5, 8, 1, 8, 0, 1, 7, 0, 6, 7, 4, 6, 8, 7, 9, 7, 5, 2, 2, 8, 3, 3, 5, 3, 8, 8, 2, 8, 2, 0, 3, 1, 5, 4, 3, 6, 7, 0, 9, 7, 0, 0, 0, 1, 0, 3, 9, 5, 1, 3, 8, 1, 5, 1, 9, 0, 6, 5, 6, 0, 7, 2, 9, 8, 7, 2, 5, 8, 9, 7, 1, 4, 1, 9, 6, 4, 1, 0, 2, 4, 3, 0, 4, 2, 4, 4, 1, 9, 7, 6, 5, 8, 9, 2, 3, 1, 6, 0, 1, 5, 7, 1, 7, 3, 2, 8, 1, 3, 0, 3, 4, 8, 3, 2, 2, 2, 5, 5, 3, 3, 1, 9, 7, 1, 3, 7, 5, 0, 9, 8, 9, 1, 5, 7, 4, 6, 7, 4, 0, 0, 5, 9, 0, 4, 9, 2, 1, 0, 6, 1, 9, 9, 3, 4, 3, 0, 0, 4, 4, 4, 9, 1, 5, 7, 7, 1, 8, 5, 8, 7, 9, 1, 1, 7, 9, 1, 3, 1, 7, 6, 4, 1, 1, 9, 7, 7, 1, 2, 4, 6, 8, 7, 1, 8, 9, 4, 6, 1, 2, 2, 9, 9, 5, 7, 7, 3, 0, 1, 0, 3, 6, 1, 5, 1, 3, 3, 8, 3, 6, 6, 0, 6, 5, 9, 0, 4, 5, 5, 1, 1, 4, 8, 8, 4, 9, 4, 8, 4, 5, 4, 6, 6, 1, 2, 7, 6, 8, 1, 4, 1, 6, 8, 3, 3, 7, 1, 1, 5, 9, 5, 8, 3, 4, 8, 6, 1, 6, 1, 1, 1, 0, 7, 2, 0, 2, 5, 2, 8, 3, 9, 9, 0, 3, 6, 3, 5, 5, 5, 6, 3, 5, 7, 0, 9, 9, 6, 2, 2, 3, 0, 8, 0, 6, 2, 4, 3, 4, 2, 3, 5, 0, 2, 9, 7, 8, 4, 5, 6, 2, 0, 7, 1, 1, 0, 9, 2, 4, 9, 1, 8, 9, 1, 3, 0, 1, 3, 6, 0, 2, 8, 8, 3, 1, 5, 0, 7, 1, 5, 2, 5, 6, 5, 1, 4, 5, 5, 7, 0, 7, 1, 7, 3, 1, 9, 3, 6, 2, 0, 1, 1, 7, 7, 4, 7, 9, 8, 2, 0, 9, 9, 3, 4, 9, 5, 6, 2, 6, 1, 9, 7, 1, 4, 9, 9, 0, 9, 6, 4, 2, 0, 8, 3, 4, 0, 3, 8, 4, 4, 8, 3, 0, 0, 1, 5, 3, 4, 0, 1, 5, 7, 0, 2, 2, 6, 1, 1, 7, 9, 1, 3, 0, 2, 5, 1, 3, 5, 1, 3, 6, 3, 0, 2, 4, 5, 2, 0, 9, 1, 8, 1, 0, 9, 7, 7, 1, 3, 9, 9, 0, 6, 6, 1, 9, 7, 2, 3, 7, 7, 2, 8, 6, 9, 5, 5, 7, 7, 2, 9, 1, 9, 4, 4, 9, 0, 1, 0, 3, 3, 7, 5, 3, 8, 8, 7, 5, 3, 8, 9, 8, 6, 7, 5, 4, 6, 4, 4, 4, 1, 5, 9, 0, 4, 4, 3, 0, 0, 2, 7, 0, 1, 7, 1, 1, 4, 7, 1, 6, 9, 3, 1, 2, 1, 3, 0, 9, 8, 3, 7, 0, 2, 5, 0, 3, 6, 7, 6, 4, 9, 6, 9, 1, 5, 0, 9, 2, 6, 7, 9, 9, 2, 5, 4, 5, 3, 3, 7, 0, 3, 2, 6, 9, 3, 3, 2, 0, 8, 8, 1, 2, 3, 8, 8, 2, 8, 8, 6, 5, 3, 1, 9, 0, 2, 5, 5, 1, 3, 8, 8, 7, 2, 9, 7, 8, 6, 9, 3, 3, 2, 6, 9, 0, 2, 7, 9, 1, 6, 5, 9, 0, 0, 5, 4, 4, 8, 0, 1, 9, 9, 8, 2, 8, 6, 2, 7, 9, 8, 0, 8, 9, 0, 8, 2, 8, 9, 9, 1, 3, 8, 5, 3, 9, 9, 3, 6, 3, 5, 9, 5, 1, 5, 1, 6, 7, 5, 7, 0, 7, 2, 1, 5, 9, 1, 2, 6, 0, 0, 3, 8, 6, 7, 1, 0, 9, 5, 9, 1, 6, 4, 8, 0, 3, 5, 4, 0, 8, 0, 4, 7, 9, 2, 3, 9, 1, 5, 8, 0, 7, 1, 4, 0, 2, 3, 4, 3, 1, 5, 8, 3, 4, 8, 9, 4, 6, 5, 1, 3, 5, 4, 9, 8, 8, 5, 5, 6, 8, 2, 1, 3, 2, 2, 8, 7, 9, 8, 0, 0, 1, 1, 6, 3, 4, 8, 4, 9, 0, 9, 4, 0, 7, 3, 6, 6, 7, 5, 1, 1, 8, 4, 3, 7, 2, 7, 9, 1, 8, 6, 4, 6, 0, 3, 4, 2, 4, 4, 0, 2, 3, 1, 3, 4, 2, 3, 8, 7, 6, 4, 1, 5, 3, 1, 6, 6, 9, 5, 1, 2, 3, 5, 0, 3, 0, 9, 5, 8, 0, 5, 7, 6, 5, 6, 2, 6, 9, 2, 9, 2, 8, 9, 7, 6, 5, 2, 7, 6, 6, 8, 9, 0, 1, 0, 9, 6, 9, 4, 7, 2, 2, 6, 2, 8, 4, 5, 8, 8, 7, 6, 9, 3, 1, 1, 6, 5, 7, 8, 0, 4, 7, 8, 5, 4, 0, 1, 7, 8, 1, 8, 9, 7, 0, 0, 9, 7, 5, 4, 0, 8, 3, 2, 7, 9, 1, 9, 4, 2, 7, 7, 1, 8, 1, 2, 0, 2, 3, 7, 4, 7, 3, 1, 2, 9, 3, 6, 7, 3, 0, 7, 1, 7, 2, 8, 7, 2, 9, 6, 7, 6, 7, 9, 7, 0, 8, 2, 2, 7, 3, 6, 1, 9, 8, 3, 3, 3, 4, 1, 3, 7, 8, 3, 6, 6, 5, 8, 3, 8, 3, 5, 3, 5, 4, 1, 4, 1, 5, 8, 5, 9, 1, 4, 5, 2, 4, 7, 1, 2, 2, 7, 8, 7, 8, 0, 4, 1, 7, 1, 7, 0, 0, 5, 1, 5, 9, 4, 4, 1, 6, 0, 1, 8, 6, 7, 9, 3, 1, 6, 6, 4, 1, 6, 6, 0, 5, 4, 4, 8, 9, 9, 0, 8, 8, 5, 4, 3, 5, 6, 9, 3, 9, 8, 2, 1, 3, 7, 8, 8, 7, 4, 9, 5, 8, 1, 2, 6, 0, 2, 4, 6, 4, 3, 4, 7, 9, 1, 3, 4, 5, 4, 9, 8, 1, 9, 2, 2, 8, 6, 3, 0, 1, 1, 1, 3, 7, 7, 2, 7, 8, 6, 3, 0, 3, 3, 7, 7, 1, 9, 6, 7, 3, 8, 3, 5, 8, 3, 0, 0, 3, 7, 9, 4, 9, 7, 9, 2, 2, 1, 0, 9, 9, 3, 4, 4, 9, 8, 7, 4, 4, 8, 3, 3, 1, 6, 0, 3, 7, 2, 8, 8, 9, 9, 6, 5, 5, 4, 9, 2, 2, 7, 1, 3, 2, 9, 2, 4, 9, 5, 2, 3, 8, 2, 4, 1, 8, 9, 1, 7, 6, 0, 4, 6, 0, 1, 1, 2, 8, 8, 4, 1, 4, 4, 1, 7, 3, 6, 1, 8, 6, 2, 4, 5, 4, 0, 8, 8, 8, 2, 3, 3, 9, 0, 5, 1, 1, 7, 0, 9, 2, 1, 5, 8, 5, 7, 7, 3, 1, 7, 0, 3, 5, 1, 5, 9, 7, 0, 6, 8, 8, 8, 9, 2, 2, 6, 6, 0, 5, 4, 8, 8, 3, 0, 8, 3, 2, 7, 2, 0, 6, 0, 1, 1, 9, 3, 7, 5, 2, 5, 0, 6, 0, 8, 0, 9, 9, 6, 2, 0, 0, 6, 7, 3, 9, 3, 5, 6, 2, 1, 2, 9, 9, 9, 3, 2, 3, 0, 3, 1, 4, 0, 8, 7, 1, 8, 5, 0, 9, 3, 1, 2, 0, 5, 4, 2, 2, 4, 4, 7, 4, 3, 9, 4, 8, 1, 3, 9, 5, 9, 4, 7, 8, 1, 3, 5, 0, 4, 8, 3, 9, 3, 5, 3, 3, 6, 5, 4, 8, 4, 2, 2, 5, 9, 3, 5, 7, 9, 3, 1, 7, 6, 3, 8, 8, 1, 1, 6, 8, 3, 1, 8, 4, 6, 1, 8, 4, 3, 5, 4, 3, 7, 6, 1, 1, 1, 4, 0, 3, 0, 6, 8, 3, 0, 1, 0, 6, 1, 0, 7, 3, 9, 4, 0, 5, 1, 4, 0, 2, 4, 2, 7, 8, 2, 9, 6, 5, 4, 0, 1, 7, 3, 2, 4, 4, 4, 1, 2, 6, 5, 7, 7, 1, 8, 0, 9, 9, 8, 2, 2, 7, 3, 1, 1, 1, 1, 5, 6, 6, 6, 7, 8, 3, 3, 4, 0, 8, 8, 4, 6, 5, 8, 4, 8, 2, 1, 6, 1, 0, 8, 8, 1, 6, 2, 5, 1, 6, 9, 4, 0, 1, 7, 3, 1, 3, 3, 0, 9, 0, 6, 1, 3, 4, 2, 1, 3, 0, 0, 8, 0, 6, 3, 9, 9, 6, 3, 7, 4, 5, 1, 9, 1, 7, 0, 2, 6, 2, 9, 7, 0, 7, 8, 1, 3, 1, 3, 7, 7, 1, 4, 9, 6, 6, 3, 7, 0, 1, 2, 8, 6, 3, 8, 5, 3, 4, 2, 7, 7, 1, 0, 8, 3, 3, 6, 1, 8, 9, 8, 3, 8, 8, 0, 4, 6, 0, 5, 5, 9, 3, 6, 1, 5, 5, 1, 1, 7, 3, 7, 9, 5, 3, 8, 6, 6, 1, 3, 2, 2, 7, 4, 8, 8, 6, 5, 1, 4, 3, 2, 4, 5, 3, 3, 1, 9, 0, 8, 9, 9, 7, 7, 5, 3, 4, 7, 0, 3, 9, 6, 6, 0, 6, 2, 9, 9, 3, 5, 5, 2, 9, 3, 1, 6, 7, 5, 0, 4, 4, 9, 1, 5, 8, 3, 3, 4, 6, 7, 9, 0, 1, 6, 4, 5, 0, 5, 9, 2, 8, 4, 9, 6, 8, 4, 3, 1, 3, 2, 9, 7, 4, 8, 0, 0, 9, 7, 5, 4, 5, 0, 5, 4, 2, 6, 9, 7, 5, 9, 7, 6, 5, 6, 3, 0, 5, 0, 6, 6, 3, 5, 6, 3, 2, 7, 2, 4, 1, 2, 0, 2, 3, 2, 8, 8, 9, 6, 5, 1, 5, 1, 3, 7, 2, 1, 9, 4, 6, 9, 5, 7, 7, 4, 2, 4, 9, 1, 6, 9, 4, 3, 1, 0, 7, 3, 8, 5, 8, 1, 2, 5, 3, 8, 5, 9, 9, 4, 2, 0, 2, 7, 8, 1, 9, 5, 9, 2, 3, 1, 7, 1, 7, 1, 0, 9, 9, 0, 1, 5, 9, 7, 6, 2, 3, 1, 1, 6, 0, 5, 5, 7, 7, 8, 9, 8, 5, 5, 7, 5, 7, 8, 6, 1, 8, 7, 7, 3, 6, 9, 8, 0, 2, 8, 5, 4, 9, 4, 7, 9, 7, 5, 9, 4, 3, 4, 5, 1, 7, 3, 5, 2, 1, 3, 2, 9, 8, 3, 7, 7, 8, 2, 8, 1, 4, 7, 7, 2, 8, 2, 9, 0, 9, 5, 2, 5, 8, 9, 7, 6, 5, 2, 5, 8, 1, 9, 0, 3, 5, 0, 7, 9, 7, 7, 0, 1, 6, 7, 9, 0, 2, 8, 9, 8, 9, 8, 0, 7, 7, 5, 6, 9, 3, 6, 6, 6, 5, 7, 0, 7, 0, 1, 4, 4, 5, 6, 0, 5, 3, 4, 4, 6, 2, 1, 5, 8, 2, 9, 5, 7, 7, 0, 5, 4, 5, 9, 1, 2, 8, 4, 7, 1, 1, 6, 4, 2, 6, 4, 2, 7, 3, 8, 0, 5, 1, 8, 0, 8, 8, 1, 4, 7, 1, 7, 8, 4, 6, 6, 2, 4, 6, 4, 0, 8, 5, 8, 7, 2, 9, 7, 5, 6, 0, 3, 5, 6, 6, 8, 0, 1, 2, 1, 1, 1, 1, 5, 5, 4, 0, 7, 1, 2, 9, 1, 9, 0, 9, 1, 3, 0, 7, 4, 0, 7, 0, 3, 9, 8, 6, 0, 6, 1, 7, 1, 5, 3, 7, 1, 3, 5, 0, 1, 3, 7, 1, 7, 1, 8, 8, 1, 1, 9, 0, 4, 7, 7, 9, 3, 0, 0, 9, 5, 0, 3, 6, 5, 3, 0, 7, 2, 8, 9, 9, 3, 8, 5, 1, 6, 5, 7, 4, 3, 1, 5, 8, 0, 1, 1, 0, 1, 4, 7, 1, 3, 1, 9, 2, 1, 0, 5, 9, 9, 3, 2, 3, 8, 5, 2, 5, 3, 4, 6, 3, 1, 3, 0, 7, 6, 2, 4, 5, 3, 9, 0, 3, 1, 8, 9, 8, 6, 5, 8, 8, 1, 2, 3, 9, 6, 4, 1, 0, 2, 4, 1, 6, 3, 9, 6, 6, 9, 7, 2, 6, 7, 4, 6, 4, 7, 2, 0, 5, 8, 9, 7, 7, 6, 2, 9, 1, 4, 8, 7, 9, 9, 3, 5, 0, 0, 1, 8, 6, 7, 2, 8, 3, 8, 9, 1, 1, 9, 3, 0, 4, 3, 1, 6, 2, 4, 7, 3, 8, 1, 2, 9, 3, 6, 0, 9, 4, 5, 9, 2, 1, 9, 3, 4, 3, 3, 9, 9, 8, 8, 4, 7, 8, 6, 4, 7, 5, 0, 6, 1, 2, 3, 9, 9, 1, 6, 2, 7, 7, 4, 6, 1, 7, 7, 5, 8, 3, 1, 4, 1, 1, 7, 8, 6, 5, 9, 6, 3, 6, 8, 7, 8, 8, 1, 5, 8, 6, 2, 1, 7, 0, 1, 2, 8, 8, 8, 0, 9, 7, 0, 0, 8, 5, 6, 5, 0, 4, 2, 6, 1, 9, 3, 0, 7, 8, 8, 9, 9, 8, 7, 7, 5, 4, 9, 6, 2, 9, 1, 9, 3, 5, 9, 8, 1, 9, 1, 4, 7, 6, 5, 9, 3, 4, 2, 9, 2, 9, 7, 6, 2, 0, 3, 7, 5, 6, 9, 8, 8, 2, 1, 3, 2, 1, 8, 1, 4, 2, 1, 6, 1, 0, 9, 9, 4, 8, 9, 5, 8, 3, 2, 7, 3, 0, 9, 8, 6, 5, 2, 0, 9, 1, 6, 1, 9, 5, 5, 0, 8, 6, 6, 1, 4, 6, 5, 3, 6, 9, 7, 5, 4, 6, 9, 6, 1, 7, 7, 2, 2, 4, 1, 2, 5, 3, 6, 2, 3, 1, 0, 5, 8, 2, 9, 2, 1, 8, 0, 0, 9, 1, 5, 3, 9, 5, 2, 4, 9, 2, 2, 9, 1, 7, 4, 4, 1, 4, 6, 2, 9, 8, 4, 9, 2, 9, 5, 3, 4, 5, 2, 8, 7, 3, 1, 1, 3, 5, 1, 7, 0, 7, 2, 0, 3, 3, 8, 6, 3, 1, 8, 2, 3, 7, 5, 5, 6, 2, 3, 6, 3, 8, 8, 8, 6, 8, 2, 1, 6, 3, 1, 9, 6, 0, 1, 3, 8, 6, 8, 7, 9, 4, 7, 0, 9, 8, 8, 3, 9, 7, 4, 8, 2, 7, 9, 6, 9, 1, 5, 9, 3, 7, 6, 7, 2, 4, 6, 7, 3, 3, 6, 2, 5, 8, 9, 3, 1, 5, 4, 7, 8, 9, 5, 2, 3, 8, 9, 5, 8, 3, 1, 6, 2, 7, 3, 5, 3, 4, 2, 3, 1, 0, 5, 2, 3, 1, 5, 4, 7, 0, 8, 0, 0, 0, 2, 1, 5, 1, 1, 9, 3, 0, 0, 8, 4, 5, 2, 6, 5, 9, 6, 5, 2, 8, 7, 4, 8, 1, 2, 0, 5, 3, 9, 1, 7, 3, 3, 6, 5, 8, 4, 4, 5, 3, 4, 9, 0, 3, 3, 1, 8, 3, 3, 3, 4, 0, 5, 1, 5, 8, 6, 8, 1, 3, 3, 6, 3, 3, 1, 1, 1, 6, 1, 9, 3, 1, 1, 1, 5, 4, 9, 1, 4, 8, 7, 5, 5, 7, 2, 0, 5, 2, 1, 1, 7, 7, 4, 7, 6, 2, 6, 7, 7, 5, 2, 9, 1, 9, 3, 9, 6, 8, 5, 3, 6, 8, 7, 2, 2, 2, 8, 7, 7, 5, 0, 4, 5, 1, 1, 3, 6, 1, 5, 5, 9, 6, 4, 4, 1, 5, 7, 0, 1, 9, 6, 3, 5, 2, 1, 1, 8, 2, 0, 1, 0, 5, 0, 1, 9, 6, 8, 2, 4, 9, 2, 7, 4, 0, 2, 1, 0, 2, 4, 1, 4, 7, 3, 4, 3, 7, 0, 4, 2, 2, 8, 8, 7, 1, 7, 7, 3, 0, 1, 5, 8, 5, 6, 3, 9, 8, 6, 3, 0, 9, 8, 6, 6, 1, 2, 1, 3, 9, 5, 3, 6, 5, 6, 1, 9, 4, 5, 4, 0, 5, 7, 9, 9, 2, 3, 5, 1, 5, 6, 1, 8, 9, 4, 5, 1, 3, 3, 1, 9, 9, 9, 2, 1, 2, 2, 2, 7, 4, 8, 0, 0, 8, 4, 6, 4, 9, 8, 8, 2, 9, 9, 4, 1, 2, 6, 2, 2, 8, 3, 7, 0, 2, 0, 1, 2, 3, 4, 6, 3, 1, 8, 0, 1, 4, 9, 1, 1, 7, 2, 4, 7, 5, 4, 0, 2, 0, 5, 5, 1, 1, 1, 9, 0, 9, 4, 5, 6, 3, 7, 4, 6, 9, 0, 8, 3, 5, 2, 6, 7, 8, 1, 6, 5, 3, 4, 7, 6, 1, 7, 1, 0, 6, 0, 5, 4, 9, 6, 6, 7, 2, 8, 8, 5, 8, 2, 5, 4, 2, 8, 0, 2, 9, 4, 8, 8, 1, 3, 1, 3, 0, 1, 5, 0, 7, 6, 1, 4, 7, 3, 6, 4, 1, 9, 7, 7, 4, 0, 6, 6, 1, 5, 9, 1, 2, 4, 1, 7, 2, 0, 6, 1, 7, 4, 5, 9, 1, 5, 2, 7, 7, 1, 5, 6, 3, 4, 3, 9, 8, 7, 3, 4, 9, 1, 8, 9, 0, 6, 1, 4, 2, 9, 0, 6, 5, 5, 6, 3, 2, 6, 9, 7, 0, 3, 4, 7, 0, 0, 1, 7, 7, 8, 2, 7, 8, 7, 3, 0, 1, 3, 5, 3, 9, 5, 7, 3, 7, 0, 3, 4, 1, 3, 3, 2, 1, 2, 2, 0, 6, 4, 9, 4, 1, 5, 9, 2, 3, 5, 9, 1, 1, 1, 1, 2, 4, 8, 1, 9, 0, 0, 3, 5, 3, 5, 8, 0, 3, 5, 3, 9, 0, 7, 7, 4, 2, 3, 2, 3, 5, 5, 6, 4, 3, 1, 6, 3, 7, 9, 4, 9, 2, 5, 4, 8, 6, 9, 1, 9, 2, 9, 4, 8, 9, 1, 9, 0, 3, 1, 8, 0, 9, 7, 2, 8, 7, 5, 3, 2, 5, 6, 0, 8, 4, 3, 6, 4, 7, 8, 4, 0, 1, 8, 7, 3, 4, 6, 5, 0, 0, 8, 2, 5, 9, 3, 9, 9, 1, 9, 6, 8, 5, 3, 8, 3, 6, 2, 6, 5, 2, 8, 9, 8, 4, 0, 3, 8, 6, 9, 7, 3, 7, 7, 0, 4, 0, 2, 9, 3, 4, 9, 0, 3, 0, 6, 6, 6, 5, 1, 6, 4, 6, 4, 5, 1, 2, 3, 1, 6, 9, 1, 7, 4, 1, 8, 2, 3, 4, 6, 7, 4, 3, 5, 8, 5, 4, 7, 4, 1, 0, 7, 2, 5, 2, 9, 2, 8, 6, 6, 0, 0, 1, 3, 1, 0, 5, 9, 8, 4, 2, 8, 3, 3, 2, 4, 6, 7, 7, 8, 8, 1, 5, 2, 0, 2, 1, 5, 4, 2, 1, 0, 8, 6, 1, 4, 8, 5, 2, 3, 1, 3, 5, 7, 3, 4, 3, 0, 4, 4, 7, 0, 8, 2, 5, 8, 4, 5, 9, 4, 4, 2, 6, 1, 1, 2, 2, 5, 2, 8, 1, 0, 5, 3, 1, 1, 7, 0, 8, 1, 1, 7, 6, 4, 3, 6, 1, 6, 8, 0, 4, 5, 4, 4, 2, 7, 4, 1, 4, 1, 7, 1, 6, 6, 5, 2, 3, 4, 7, 2, 2, 9, 3, 4, 1, 9, 4, 8, 0, 4, 4, 2, 5, 4, 0, 3, 7, 4, 9, 2, 6, 5, 9, 1, 1, 6, 1, 6, 5, 5, 7, 5, 9, 7, 4, 2, 2, 5, 0, 9, 9, 0, 4, 8, 0, 5, 3, 4, 3, 6, 6, 6, 8, 1, 3, 7, 2, 1, 1, 4, 9, 2, 7, 8, 5, 2, 4, 8, 1, 8, 9, 9, 0, 6, 0, 8, 6, 6, 4, 2, 6, 2, 1, 6, 7, 5, 3, 9, 9, 6, 4, 8, 0, 1, 2, 8, 7, 6, 2, 8, 3, 0, 9, 9, 6, 6, 9, 4, 9, 0, 8, 2, 2, 8, 2, 2, 3, 3, 6, 9, 6, 1, 0, 0, 2, 2, 6, 6, 0, 8, 4, 0, 7, 8, 4, 0, 0, 4, 8, 4, 0, 1, 3, 1, 8, 5, 6, 7, 4, 5, 5, 3, 0, 2, 6, 8, 0, 3, 4, 8, 8, 7, 7, 5, 9, 2, 9, 6, 1, 5, 2, 1, 5, 0, 0, 8, 5, 0, 3, 1, 7, 8, 6, 2, 1, 6, 9, 1, 1, 1, 4, 7, 2, 3, 6, 8, 1, 9, 9, 3, 3, 2, 9, 1, 4, 3, 0, 7, 9, 1, 0, 5, 3, 8, 7, 9, 5, 7, 0, 6, 9, 4, 4, 7, 5, 4, 3, 6, 1, 2, 7, 0, 8, 5, 6, 1, 5, 0, 6, 1, 4, 5, 7, 0, 7, 1, 6, 9, 0, 0, 3, 9, 9, 0, 4, 8, 1, 7, 4, 8, 3, 3, 3, 2, 0, 7, 1, 2, 9, 8, 2, 9, 6, 8, 6, 4, 6, 1, 1, 6, 3, 9, 6, 4, 3, 6, 0, 2, 7, 8, 5, 8, 2, 1, 0, 1, 6, 3, 2, 7, 6, 2, 6, 7, 7, 4, 2, 6, 7, 3, 8, 7, 2, 0, 8, 0, 0, 2, 8, 6, 7, 8, 2, 0, 9, 4, 7, 4, 4, 0, 5, 6, 0, 8, 1, 8, 1, 2, 6, 9, 7, 1, 5, 2, 1, 0, 8, 4, 7, 7, 8, 7, 6, 1, 0, 8, 1, 1, 5, 4, 7, 8, 8, 3, 1, 0, 2, 7, 4, 7, 5, 0, 0, 2, 4, 8, 0, 7, 1, 0, 9, 1, 3, 8, 0, 0, 9, 7, 6, 6, 6, 2, 9, 9, 2, 0, 4, 5, 8, 3, 9, 5, 2, 0, 8, 9, 5, 5, 4, 4, 3, 8, 7, 5, 0, 3, 7, 6, 8, 9, 6, 8, 6, 7, 9, 4, 3, 3, 2, 6, 5, 5, 6, 9, 7, 4, 2, 1, 0, 1, 4, 1, 7, 7, 6, 9, 9, 9, 7, 6, 8, 3, 2, 4, 1, 2, 5, 9, 5, 8, 8, 9, 8, 5, 6, 6, 1, 0, 2, 0, 1, 6, 7, 2, 7, 1, 2, 6, 2, 1, 6, 3, 6, 5, 2, 7, 1, 8, 4, 2, 7, 9, 2, 6, 5, 2, 9, 9, 9, 3, 5, 6, 4, 4, 4, 7, 3, 5, 8, 7, 8, 1, 7, 7, 6, 5, 3, 7, 3, 0, 8, 2, 9, 5, 7, 4, 0, 6, 9, 5, 8, 3, 5, 7, 9, 3, 4, 4, 2, 9, 0, 8, 1, 6, 2, 7, 9, 5, 0, 8, 4, 4, 8, 2, 9, 1, 8, 6, 3, 1, 2, 2, 0, 1, 3, 5, 8, 1, 6, 0, 0, 0, 2, 1, 1, 9, 5, 1, 4, 2, 9, 6, 4, 8, 1, 9, 4, 3, 9, 8, 3, 4, 5, 8, 4, 9, 8, 3, 9, 1, 5, 4, 7, 5, 6, 1, 2, 5, 5, 1, 7, 1, 5, 1, 2, 6, 3, 6, 6, 9, 5, 0, 9, 5, 1, 9, 9, 6, 5, 8, 2, 3, 8, 5, 3, 3, 8, 8, 3, 1, 4, 9, 9, 2, 1, 6, 3, 1, 0, 8, 9, 9, 7, 9, 5, 1, 0, 0, 6, 6, 6, 6, 2, 8, 3, 0, 8, 7, 4, 0, 7, 7, 5, 1, 3, 8, 1, 8, 1, 9, 0, 4, 0, 2, 5, 0, 7, 4, 3, 7, 4, 6, 5, 9, 6, 3, 2, 0, 0, 0, 1, 9, 6, 4, 3, 3, 7, 9, 4, 8, 5, 4, 0, 3, 3, 8, 9, 9, 1, 1, 7, 3, 4, 6, 9, 4, 4, 3, 6, 7, 3, 5, 6, 0, 2, 9, 1, 0, 6, 7, 4, 4, 7, 9, 0, 7, 4, 0, 9, 6, 8, 3, 1, 2, 8, 2, 7, 4, 1, 8, 5, 1, 5, 3, 8, 8, 2, 0, 6, 5, 5, 8, 6, 1, 2, 0, 9, 3, 8, 2, 8, 0, 4, 3, 1, 0, 1, 1, 3, 8, 7, 2, 7, 5, 5, 5, 4, 1, 9, 1, 9, 1, 4, 9, 7, 2, 0, 2, 6, 8, 2, 5, 9, 2, 9, 8, 8, 8, 0, 9, 4, 3, 4, 0, 8, 1, 9, 0, 0, 4, 5, 9, 7, 5, 6, 1, 5, 1, 9, 7, 9, 9, 2, 2, 2, 6, 9, 7, 9, 4, 2, 4, 0, 7, 7, 8, 3, 0, 2, 8, 0, 8, 5, 0, 2, 5, 8, 9, 9, 7, 2, 3, 5, 4, 6, 5, 8, 8, 3, 7, 4, 9, 1, 1, 5, 7, 6, 8, 0, 7, 8, 5, 3, 8, 8, 3, 3, 6, 4, 3, 6, 5, 7, 6, 7, 3, 2, 9, 3, 9, 8, 8, 9, 8, 0, 3, 5, 7, 5, 5, 7, 5, 2, 8, 1, 6, 6, 2, 2, 1, 2, 1, 2, 7, 5, 0, 0, 7, 1, 2, 3, 7, 2, 0, 5, 3, 4, 6, 8, 4, 3, 6, 7, 9, 5, 3, 7, 4, 9, 5, 4, 8, 1, 0, 3, 2, 0, 3, 2, 0, 3, 7, 2, 4, 2, 2, 4, 2, 8, 8, 4, 0, 4, 5, 5, 8, 4, 9, 1, 7, 0, 5, 5, 5, 0, 7, 1, 3, 6, 5, 0, 1, 9, 6, 0, 6, 9, 4, 7, 3, 9, 6, 5, 1, 7, 7, 2, 6, 2, 5, 6, 3, 4, 1, 8, 9, 3, 0, 1, 3, 8, 2, 6, 3, 6, 2, 0, 8, 8, 4, 2, 4, 2, 4, 6, 5, 2, 1, 1, 4, 7, 4, 3, 7, 0, 8, 6, 6, 6, 8, 5, 7, 4, 6, 2, 1, 2, 8, 6, 5, 0, 3, 3, 6, 8, 8, 4, 1, 4, 4, 9, 1, 2, 1, 1, 7, 3, 7, 5, 2, 8, 9, 6, 5, 1, 4, 7, 9, 0, 8, 9, 3, 0, 0, 2, 7, 6, 0, 0, 6, 7, 8, 8, 2, 9, 0, 7, 5, 2, 6, 6, 3, 7, 4, 4, 8, 5, 1, 4, 8, 2, 2, 9, 2, 2, 9, 8, 8, 7, 7, 8, 9, 0, 4, 0, 5, 2, 5, 6, 0, 7, 6, 4, 6, 5, 7, 7, 1, 0, 6, 9, 9, 2, 9, 6, 2, 2, 8, 6, 8, 7, 8, 8, 8, 3, 3, 4, 0, 2, 3, 3, 7, 3, 7, 5, 8, 5, 1, 9, 9, 9, 0, 2, 3, 3, 6, 9, 6, 8, 8, 7, 1, 1, 6, 0, 2, 4, 4, 7, 6, 0, 9, 5, 8, 5, 7, 4, 0, 1, 8, 0, 8, 5, 4, 3, 9, 0, 4, 5, 0, 5, 1, 3, 5, 7, 7, 5, 1, 2, 8, 7, 9, 3, 7, 2, 7, 9, 7, 4, 6, 3, 3, 8, 4, 9, 3, 4, 6, 3, 1, 5, 5, 9, 4, 4, 8, 3, 2, 4, 5, 1, 0, 7, 0, 9, 6, 1, 0, 9, 6, 1, 1, 7, 5, 3, 1, 6, 1, 6, 3, 5, 7, 3, 0, 9, 7, 5, 5, 4, 2, 8, 8, 9, 5, 9, 5, 6, 0, 6, 5, 9, 1, 3, 7, 7, 3, 1, 9, 2, 4, 6, 0, 3, 7, 0, 4, 1, 1, 7, 9, 2, 2, 5, 8, 7, 0, 9, 6, 6, 0, 4, 9, 2, 0, 8, 3, 1, 2, 4, 2, 9, 9, 7, 7, 8, 8, 2, 8, 7, 4, 3, 3, 7, 6, 3, 2, 2, 5, 0, 9, 1, 6, 8, 9, 9, 0, 4, 4, 1, 7, 3, 1, 1, 7, 8, 9, 1, 0, 5, 3, 7, 3, 3, 3, 9, 3, 7, 4, 3, 5, 4, 0, 9, 6, 7, 2, 5, 5, 6, 6, 6, 4, 0, 2, 5, 6, 6, 4, 1, 6, 8, 3, 5, 5, 4, 2, 9, 0, 0, 3, 2, 6, 1, 6, 6, 4, 6, 6, 4, 5, 4, 4, 2, 3, 3, 9, 7, 2, 0, 1, 7, 2, 6, 5, 0, 6, 2, 3, 7, 6, 1, 8, 1, 2, 0, 1, 3, 2, 5, 8, 4, 2, 0, 1, 5, 1, 6, 6, 1, 7, 5, 9, 1, 6, 2, 2, 9, 8, 7, 2, 5, 5, 4, 8, 2, 7, 0, 0, 2, 8, 5, 4, 1, 4, 4, 7, 2, 4, 2, 3, 0, 9, 7, 5, 1, 9, 3, 3, 1, 0, 0, 1, 4, 0, 7, 3, 2, 2, 6, 2, 4, 0, 7, 1, 2, 6, 3, 1, 3, 6, 2, 6, 9, 1, 2, 3, 1, 6, 9, 6, 1, 0, 7, 0, 1, 6, 5, 6, 1, 0, 2, 9, 3, 5, 4, 8, 8, 2, 0, 1, 5, 6, 7, 0, 0, 0, 2, 8, 5, 3, 7, 1, 2, 2, 9, 2, 7, 3, 4, 7, 5, 8, 4, 0, 3, 0, 5, 0, 4, 8, 8, 6, 7, 4, 4, 0, 8, 7, 9, 8, 1, 7, 6, 1, 3, 9, 9, 4, 5, 7, 1, 7, 7, 8, 7, 3, 0, 2, 3, 6, 7, 1, 1, 2, 4, 0, 1, 9, 3, 1, 6, 4, 7, 4, 5, 9, 7, 2, 0, 7, 3, 6, 9, 8, 8, 7, 9, 7, 4, 5, 8, 9, 1, 7, 6, 7, 5, 4, 7, 2, 0, 8, 2, 5, 7, 9, 2, 7, 2, 4, 0, 7, 1, 1, 7, 1, 8, 4, 2, 3, 6, 1, 8, 9, 5, 2, 0, 5, 1, 3, 1, 4, 0, 1, 7, 1, 7, 4, 9, 7, 9, 6, 1, 1, 7, 1, 3, 5, 0, 8, 6, 7, 1, 4, 9, 7, 5, 1, 1, 2, 5, 2, 3, 6, 9, 5, 9, 8, 2, 9, 0, 2, 0, 2, 7, 3, 1, 2, 7, 5, 1, 6, 6, 2, 3, 7, 3, 0, 9, 0, 0, 7, 7, 3, 4, 3, 7, 1, 5, 1, 6, 0, 9, 3, 9, 6, 3, 5, 0, 0, 4, 8, 0, 2, 0, 4, 1, 4, 8, 0, 3, 4, 5, 9, 8, 3, 1, 7, 4, 7, 9, 3, 7, 0, 9, 6, 7, 3, 6, 2, 8, 7, 8, 1, 8, 1, 9, 0, 8, 9, 6, 7, 3, 9, 5, 7, 2, 5, 4, 0, 4, 1, 8, 1, 1, 6, 0, 1, 1, 1, 8, 7, 8, 4, 2, 5, 0, 2, 6, 1, 9, 1, 2, 2, 6, 3, 6, 4, 0, 5, 4, 1, 4, 1, 1, 6, 7, 3, 5, 9, 8, 7, 4, 3, 2, 2, 7, 9, 0, 4, 7, 1, 1, 9, 0, 4, 9, 9, 0, 6, 4, 2, 6, 1, 8, 8, 8, 9, 6, 6, 6, 7, 8, 1, 4, 0, 4, 4, 3, 2, 5, 8, 4, 4, 2, 1, 5, 5, 2, 8, 1, 2, 0, 3, 9, 4, 3, 3, 1, 2, 8, 8, 6, 4, 8, 7, 5, 9, 1, 8, 0, 9, 9, 6, 8, 7, 0, 2, 0, 6, 8, 3, 8, 4, 6, 9, 6, 8, 4, 1, 3, 0, 1, 6, 8, 8, 5, 7, 5, 7, 2, 2, 5, 7, 6, 7, 4, 7, 4, 6, 7, 6, 3, 8, 3, 9, 3, 2, 3, 3, 5, 8, 0, 3, 9, 8, 7, 3, 1, 7, 8, 9, 3, 5, 5, 7, 7, 0, 0, 1, 8, 1, 6, 8, 8, 9, 8, 4, 5, 0, 3, 9, 6, 4, 7, 1, 8, 9, 1, 9, 3, 5, 5, 1, 4, 7, 0, 9, 7, 4, 9, 5, 0, 8, 1, 2, 8, 1, 1, 1, 1, 6, 2, 1, 6, 9, 5, 4, 7, 0, 5, 9, 7, 1, 5, 8, 1, 7, 1, 4, 2, 3, 8, 7, 5, 6, 8, 8, 6, 4, 0, 3, 9, 7, 2, 8, 2, 1, 2, 7, 9, 4, 8, 1, 4, 9, 8, 3, 7, 4, 1, 7, 8, 7, 5, 7, 3, 4, 6, 6, 1, 4, 7, 0, 8, 8, 3, 1, 1, 5, 9, 1, 8, 5, 1, 6, 0, 0, 8, 0, 2, 0, 9, 0, 1, 5, 8, 1, 0, 3, 7, 3, 1, 3, 6, 4, 2, 4, 4, 0, 8, 6, 0, 1, 9, 9, 7, 8, 2, 1, 4, 8, 8, 2, 7, 3, 9, 8, 0, 5, 8, 8, 9, 5, 4, 3, 5, 4, 0, 4, 5, 9, 7, 1, 4, 1, 6, 1, 9, 5, 5, 7, 1, 9, 0, 4, 7, 0, 3, 0, 8, 9, 7, 4, 8, 7, 7, 8, 0, 8, 1, 1, 2, 2, 7, 2, 6, 9, 9, 5, 9, 1, 1, 2, 8, 9, 1, 2, 4, 6, 2, 8, 4, 6, 6, 5, 0, 6, 5, 7, 0, 7, 0, 0, 3, 9, 8, 7, 0, 9, 2, 6, 7, 8, 4, 1, 0, 1, 3, 3, 8, 3, 2, 5, 7, 6, 7, 1, 6, 0, 3, 7, 4, 5, 4, 4, 9, 5, 4, 3, 3, 1, 2, 1, 7, 5, 6, 7, 3, 8, 2, 0, 4, 7, 4, 4, 2, 5, 6, 4, 6, 5, 5, 9, 7, 2, 8, 3, 9, 2, 9, 2, 4, 6, 3, 0, 1, 4, 6, 2, 8, 3, 2, 6, 3, 1, 8, 4, 3, 1, 6, 0, 3, 5, 8, 5, 4, 1, 9, 2, 7, 0, 3, 2, 9, 8, 8, 8, 6, 3, 2, 1, 6, 7, 1, 6, 4, 8, 0, 2, 1, 5, 6, 9, 3, 6, 7, 5, 0, 0, 5, 4, 7, 7, 0, 3, 2, 3, 8, 9, 9, 4, 1, 9, 5, 0, 2, 6, 3, 3, 5, 6, 0, 6, 6, 3, 4, 6, 7, 6, 3, 7, 2, 0, 7, 5, 0, 9, 8, 0, 9, 2, 9, 2, 7, 0, 9, 7, 3, 8, 7, 4, 6, 8, 5, 9, 3, 3, 0, 9, 3, 6, 0, 0, 3, 9, 1, 1, 2, 3, 2, 1, 7, 2, 9, 3, 7, 1, 1, 9, 0, 3, 1, 0, 0, 6, 1, 7, 6, 2, 2, 5, 0, 7, 0, 3, 3, 6, 5, 0, 4, 2, 7, 9, 2, 6, 4, 3, 3, 7, 5, 5, 3, 1, 8, 8, 2, 4, 5, 8, 0, 8, 5, 8, 5, 5, 8, 3, 6, 0, 0, 1, 1, 1, 4, 6, 9, 0, 6, 3, 8, 5, 3, 1, 3, 1, 7, 0, 6, 7, 7, 3, 5, 2, 2, 5, 0, 1, 6, 8, 4, 9, 4, 1, 7, 7, 1, 7, 1, 3, 7, 0, 7, 4, 3, 5, 6, 6, 0, 2, 4, 4, 1, 8, 5, 5, 6, 8, 9, 9, 7, 8, 7, 6, 5, 7, 2, 5, 4, 6, 4, 8, 6, 7, 9, 7, 9, 5, 9, 6, 6, 9, 4, 0, 2, 8, 9, 1, 5, 3, 4, 3, 5, 4, 2, 4, 8, 1, 9, 5, 6, 8, 3, 4, 0, 2, 9, 7, 3, 8, 0, 2, 1, 9, 2, 1, 9, 3, 6, 6, 5, 0, 4, 9, 6, 3, 7, 4, 8, 6, 8, 3, 8, 7, 8, 8, 6, 3, 7, 7, 7, 0, 4, 7, 4, 7, 5, 6, 0, 0, 6, 8, 6, 1, 7, 3, 2, 1, 1, 5, 0, 0, 7, 3, 4, 4, 4, 6, 5, 7, 1, 1, 4, 3, 9, 7, 7, 5, 8, 2, 3, 3, 1, 8, 9, 5, 6, 9, 3, 0, 0, 5, 9, 8, 7, 3, 2, 5, 6, 7, 2, 5, 1, 9, 6, 5, 1, 3, 8, 2, 8, 8, 4, 7, 5, 9, 9, 6, 1, 2, 4, 3, 2, 6, 4, 7, 1, 9, 2, 8, 4, 9, 8, 5, 2, 6, 5, 9, 6, 4, 3, 3, 1, 7, 3, 0, 1, 1, 4, 7, 5, 7, 5, 4, 7, 8, 9, 3, 5, 9, 9, 6, 5, 6, 7, 0, 7, 6, 0, 2, 8, 5, 1, 6, 2, 3, 7, 6, 3, 7, 7, 2, 2, 7, 6, 2, 1, 0, 7, 4, 3, 7, 2, 2, 5, 0, 8, 5, 4, 9, 8, 6, 8, 7, 2, 0, 1, 3, 6, 8, 1, 5, 7, 7, 1, 0, 0, 2, 7, 9, 4, 4, 1, 2, 4, 4, 6, 6, 0, 3, 2, 7, 5, 7, 6, 7, 3, 9, 2, 3, 8, 9, 3, 1, 7, 7, 3, 2, 9, 8, 7, 4, 9, 0, 0, 8, 2, 5, 3, 3, 5, 2, 8, 1, 3, 2, 1, 5, 1, 0, 3, 3, 8, 7, 5, 2, 7, 1, 1, 1, 9, 3, 8, 3, 1, 4, 4, 9, 2, 4, 3, 6, 9, 3, 8, 0, 2, 0, 6, 2, 9, 3, 4, 8, 1, 6, 1, 2, 6, 7, 6, 4, 4, 1, 7, 2, 5, 7, 9, 2, 7, 8, 7, 8, 2, 6, 3, 8, 4, 6, 2, 1, 6, 9, 9, 2, 1, 4, 7, 7, 3, 5, 6, 2, 6, 1, 5, 2, 5, 3, 4, 4, 5, 3, 0, 4, 9, 6, 8, 0, 3, 2, 3, 9, 0, 1, 9, 6, 7, 6, 7, 1, 7, 3, 6, 4, 5, 3, 0, 8, 9, 7, 9, 5, 3, 4, 6, 4, 7, 4, 9, 7, 6, 1, 7, 0, 0, 7, 8, 9, 3, 2, 1, 3, 6, 5, 6, 3, 7, 2, 0, 0, 0, 3, 9, 6, 3, 7, 3, 2, 3, 0, 8, 3, 9, 2, 6, 1, 1, 8, 0, 0, 4, 0, 3, 1, 2, 8, 9, 2, 1, 9, 8, 9, 2, 7, 5, 6, 2, 2, 1, 9, 3, 1, 7, 8, 9, 8, 9, 9, 0, 2, 2, 7, 5, 1, 4, 0, 9, 0, 7, 3, 7, 5, 5, 3, 2, 4, 7, 9, 7, 7, 0, 2, 7, 4, 3, 9, 0, 1, 2, 7, 7, 8, 9, 5, 3, 1, 6, 7, 0, 6, 9, 0, 7, 7, 6, 6, 7, 2, 1, 9, 1, 8, 1, 2, 8, 5, 9, 8, 7, 3, 2, 6, 8, 3, 9, 6, 4, 2, 1, 6, 3, 0, 4, 6, 2, 2, 1, 0, 6, 2, 0, 6, 7, 6, 5, 7, 9, 4, 7, 6, 0, 8, 2, 5, 1, 0, 7, 0, 6, 6, 5, 8, 0, 9, 4, 3, 8, 4, 7, 9, 6, 0, 5, 5, 3, 7, 9, 2, 5, 3, 3, 4, 8, 2, 2, 5, 4, 1, 7, 9, 1, 5, 5, 2, 5, 4, 8, 7, 1, 4, 2, 6, 7, 9, 0, 2, 0, 1, 1, 3, 9, 6, 3, 3, 6, 5, 7, 9, 5, 5, 5, 2, 6, 4, 4, 5, 0, 2, 4, 7, 3, 1, 4, 0, 7, 9, 3, 8, 0, 0, 0, 5, 3, 7, 6, 1, 6, 9, 3, 4, 6, 6, 2, 7, 2, 7, 9, 9, 3, 2, 4, 8, 8, 0, 3, 1, 3, 6, 7, 3, 6, 8, 5, 4, 0, 3, 0, 0, 5, 2, 9, 1, 5, 3, 0, 5, 5, 7, 5, 1, 0, 8, 5, 4, 6, 6, 5, 6, 4, 9, 2, 2, 7, 3, 8, 5, 3, 4, 9, 6, 9, 4, 3, 4, 1, 6, 2, 8, 2, 6, 2, 3, 5, 3, 6, 7, 4, 6, 0, 7, 0, 1, 7, 3, 9, 9, 0, 6, 2, 2, 3, 1, 3, 3, 7, 7, 5, 3, 8, 7, 1, 5, 0, 3, 2, 5, 7, 1, 2, 7, 2, 3, 0, 7, 8, 0, 6, 0, 3, 1, 1, 1, 3, 5, 7, 8, 8, 3, 3, 5, 5, 1, 9, 2, 5, 4, 3, 2, 8, 0, 3, 3, 4, 4, 4, 7, 6, 5, 9, 8, 5, 2, 2, 7, 5, 9, 8, 1, 1, 6, 6, 1, 1, 9, 9, 0, 3, 9, 7, 9, 1, 8, 8, 3, 9, 9, 2, 1, 1, 9, 8, 1, 6, 0, 8, 8, 8, 7, 9, 6, 5, 5, 9, 8, 5, 2, 3, 9, 2, 5, 3, 0, 1, 9, 4, 9, 3, 3, 7, 2, 3, 4, 7, 6, 6, 2, 6, 1, 6, 1, 7, 3, 8, 9, 6, 2, 5, 1, 8, 9, 9, 4, 8, 0, 2, 9, 3, 5, 3, 9, 7, 9, 8, 5, 4, 5, 0, 1, 7, 2, 0, 9, 7, 2, 3, 1, 2, 1, 2, 0, 4, 3, 2, 1, 6, 9, 8, 4, 2, 8, 9, 6, 6, 3, 2, 2, 3, 1, 9, 7, 3, 8, 7, 7, 7, 7, 0, 6, 5, 0, 0, 5, 4, 5, 3, 9, 9, 0, 4, 0, 3, 9, 2, 8, 7, 2, 3, 1, 7, 5, 1, 9, 0, 7, 7, 0, 6, 3, 7, 0, 2, 8, 9, 9, 8, 4, 9, 3, 6, 7, 0, 7, 3, 9, 1, 3, 0, 7, 5, 3, 3, 8, 9, 6, 8, 1, 4, 1, 0, 4, 8, 0, 4, 6, 5, 6, 7, 2, 5, 6, 3, 9, 1, 3, 1, 2, 4, 0, 7, 0, 2, 9, 6, 2, 8, 7, 0, 5, 8, 8, 5, 4, 1, 3, 5, 8, 0, 1, 0, 4, 9, 8, 8, 4, 6, 0, 2, 3, 5, 5, 7, 1, 6, 8, 2, 2, 2, 3, 3, 1, 0, 3, 7, 4, 3, 5, 3, 8, 8, 4, 2, 7, 1, 7, 2, 6, 4, 9, 0, 6, 1, 1, 6, 2, 7, 1, 6, 3, 8, 4, 3, 2, 5, 9, 9, 3, 1, 2, 8, 7, 9, 9, 0, 0, 9, 4, 9, 4, 7, 4, 1, 9, 7, 9, 3, 9, 1, 1, 8, 8, 4, 8, 4, 8, 1, 1, 2, 0, 9, 8, 2, 5, 6, 2, 6, 2, 8, 0, 8, 1, 4, 6, 2, 3, 0, 7, 0, 6, 5, 5, 8, 3, 1, 9, 8, 5, 7, 0, 5, 9, 0, 0, 4, 0, 3, 4, 9, 6, 6, 2, 2, 8, 0, 7, 4, 0, 2, 2, 0, 1, 1, 2, 5, 0, 7, 0, 2, 3, 2, 1, 2, 8, 9, 4, 1, 7, 7, 2, 8, 9, 0, 7, 5, 3, 1, 7, 9, 5, 7, 7, 0, 0, 8, 0, 2, 2, 3, 9, 7, 3, 9, 9, 3, 0, 0, 2, 5, 8, 5, 2, 8, 7, 6, 4, 9, 9, 3, 6, 7, 9, 5, 1, 9, 0, 0, 0, 7, 7, 6, 5, 2, 9, 4, 9, 2, 4, 7, 9, 8, 5, 1, 0, 5, 7, 8, 9, 1, 2, 4, 7, 5, 4, 3, 9, 7, 1, 1, 8, 6, 7, 7, 0, 5, 2, 1, 3, 1, 9, 1, 8, 2, 2, 1, 5, 2, 6, 3, 0, 0, 4, 9, 8, 4, 7, 4, 7, 9, 6, 4, 6, 6, 0, 6, 7, 5, 1, 2, 9, 7, 5, 9, 2, 6, 6, 2, 9, 1, 4, 9, 1, 2, 9, 1, 5, 0, 6, 2, 1, 0, 0, 1, 8, 4, 3, 2, 0, 3, 8, 5, 5, 2, 4, 6, 0, 2, 0, 3, 1, 0, 9, 6, 1, 1, 7, 2, 2, 0, 7, 4, 1, 3, 5, 3, 7, 1, 1, 7, 5, 3, 2, 1, 1, 4, 5, 8, 4, 1, 5, 3, 9, 7, 4, 2, 1, 3, 9, 1, 2, 6, 2, 8, 3, 4, 6, 6, 0, 9, 4, 4, 5, 6, 4, 3, 4, 7, 7, 3, 0, 3, 4, 3, 1, 5, 3, 0, 6, 8, 4, 2, 1, 8, 9, 0, 1, 0, 1, 2, 8, 0, 3, 9, 2, 8, 3, 3, 3, 7, 4, 0, 8, 7, 0, 4, 5, 1, 1, 7, 9, 6, 8, 4, 6, 6, 8, 0, 0, 2, 0, 0, 6, 9, 2, 5, 8, 1, 8, 8, 5, 8, 4, 3, 0, 4, 2, 2, 0, 3, 2, 7, 9, 1, 4, 5, 1, 7, 2, 5, 2, 4, 6, 9, 7, 2, 8, 9, 3, 3, 3, 2, 2, 6, 9, 2, 9, 0, 8, 3, 8, 1, 0, 6, 1, 1, 9, 6, 1, 7, 9, 3, 9, 6, 6, 4, 0, 3, 7, 2, 0, 2, 2, 5, 0, 7, 9, 9, 6, 8, 4, 2, 9, 5, 3, 4, 5, 6, 1, 7, 3, 3, 2, 6, 6, 2, 3, 1, 3, 1, 2, 8, 3, 5, 5, 0, 4, 4, 9, 8, 6, 8, 2, 3, 1, 8, 7, 8, 3, 2, 4, 3, 5, 0, 7, 8, 6, 7, 1, 8, 6, 9, 7, 2, 9, 5, 3, 2, 3, 7, 4, 8, 3, 9, 0, 6, 8, 4, 6, 2, 7, 1, 7, 7, 5, 9, 7, 7, 3, 3, 1, 7, 6, 4, 0, 0, 3, 7, 2, 8, 1, 4, 4, 9, 9, 3, 9, 7, 6, 8, 5, 0, 7, 3, 1, 8, 9, 2, 2, 7, 1, 1, 8, 1, 0, 8, 0, 1, 1, 7, 3, 0, 9, 7, 7, 4, 8, 9, 1, 5, 0, 4, 5, 9, 6, 7, 6, 3, 5, 1, 6, 1, 5, 1, 5, 7, 4, 6, 9, 0, 3, 0, 4, 5, 2, 0, 9, 0, 3, 9, 8, 8, 7, 3, 7, 7, 2, 7, 8, 0, 1, 2, 1, 0, 0, 5, 2, 2, 4, 5, 2, 5, 4, 8, 6, 7, 1, 2, 5, 6, 3, 7, 5, 3, 9, 3, 2, 6, 8, 9, 1, 8, 9, 1, 0, 0, 9, 7, 2, 0, 0, 6, 8, 3, 0, 9, 8, 0, 2, 9, 9, 9, 3, 6, 0, 4, 6, 6, 0, 8, 5, 7, 4, 2, 1, 3, 9, 4, 6, 0, 2, 3, 5, 7, 2, 2, 4, 8, 2, 7, 6, 5, 3, 8, 3, 8, 1, 8, 5, 2, 5, 0, 7, 5, 0, 3, 5, 4, 6, 3, 2, 1, 5, 9, 7, 2, 6, 0, 1, 7, 8, 9, 8, 5, 5, 2, 0, 2, 0, 8, 8, 3, 7, 7, 7, 2, 4, 7, 1, 0, 4, 1, 7, 6, 7, 1, 1, 2, 8, 0, 4, 1, 8, 5, 7, 8, 1, 2, 6, 4, 4, 7, 3, 2, 9, 8, 4, 0, 4, 7, 6, 8, 8, 4, 7, 1, 3, 3, 9, 7, 3, 3, 0, 2, 0, 7, 9, 3, 5, 3, 2, 9, 6, 4, 6, 9, 4, 9, 1, 0, 1, 2, 9, 4, 6, 0, 8, 7, 4, 6, 6, 5, 5, 9, 6, 3, 7, 6, 0, 5, 4, 3, 7, 3, 6, 6, 9, 9, 0, 6, 9, 0, 9, 4, 4, 2, 5, 4, 1, 7, 1, 4, 1, 7, 4, 4, 5, 7, 6, 1, 6, 5, 1, 8, 3, 7, 6, 8, 9, 7, 6, 6, 0, 4, 9, 9, 1, 1, 5, 7, 4, 5, 0, 7, 6, 5, 5, 6, 9, 8, 0, 2, 4, 4, 3, 4, 2, 1, 1, 7, 1, 5, 7, 9, 5, 6, 8, 0, 3, 3, 1, 8, 4, 9, 4, 1, 9, 0, 7, 3, 9, 3, 2, 5, 7, 1, 1, 1, 8, 6, 4, 6, 1, 0, 4, 4, 9, 2, 1, 7, 0, 2, 4, 4, 6, 3, 5, 4, 1, 8, 2, 7, 0, 5, 9, 7, 2, 6, 7, 6, 8, 0, 8, 1, 3, 8, 2, 3, 0, 8, 2, 0, 8, 3, 2, 1, 0, 0, 7, 6, 9, 9, 8, 8, 0, 8, 6, 1, 0, 1, 0, 8, 1, 0, 1, 6, 6, 1, 0, 0, 0, 0, 3, 1, 8, 1, 0, 7, 1, 7, 0, 1, 5, 1, 1, 2, 1, 3, 7, 7, 7, 9, 0, 4, 4, 3, 3, 4, 6, 1, 0, 4, 1, 9, 7, 7, 5, 7, 8, 7, 7, 0, 0, 2, 5, 8, 8, 0, 0, 0, 0, 2, 5, 5, 3, 6, 8, 1, 4, 5, 0, 7, 6, 1, 9, 9, 1, 3, 7, 8, 1, 1, 8, 3, 1, 3, 2, 2, 3, 6, 4, 6, 4, 4, 4, 1, 3, 7, 9, 4, 7, 8, 3, 3, 5, 2, 5, 3, 9, 9, 0, 0, 6, 7, 4, 8, 2, 4, 4, 1, 8, 1, 4, 8, 1, 1, 6, 3, 2, 0, 2, 9, 4, 3, 2, 1, 7, 8, 1, 2, 4, 0, 6, 1, 5, 4, 3, 5, 0, 7, 9, 0, 1, 0, 1, 6, 3, 3, 5, 1, 7, 7, 1, 0, 7, 1, 0, 9, 9, 3, 8, 9, 7, 4, 0, 9, 8, 0, 3, 6, 2, 6, 2, 0, 1, 7, 7, 9, 6, 2, 5, 4, 5, 5, 1, 7, 6, 8, 5, 1, 2, 6, 7, 2, 0, 2, 5, 5, 7, 0, 6, 6, 3, 0, 2, 4, 5, 6, 6, 7, 9, 0, 6, 2, 4, 7, 8, 7, 2, 2, 9, 8, 9, 6, 0, 1, 0, 0, 9, 7, 4, 5, 2, 6, 4, 2, 0, 4, 5, 3, 2, 9, 5, 0, 1, 1, 5, 0, 2, 5, 9, 4, 5, 0, 7, 4, 1, 0, 6, 9, 3, 7, 7, 1, 4, 8, 1, 9, 1, 1, 1, 6, 0, 1, 3, 5, 8, 1, 1, 6, 8, 0, 4, 6, 0, 2, 9, 0, 6, 2, 4, 1, 7, 5, 6, 4, 9, 3, 3, 7, 8, 8, 0, 6, 5, 2, 5, 9, 7, 0, 0, 1, 5, 3, 1, 1, 4, 7, 6, 1, 7, 3, 9, 2, 6, 5, 8, 9, 8, 2, 0, 6, 8, 2, 8, 3, 7, 0, 7, 1, 7, 0, 3, 9, 4, 9, 9, 2, 9, 8, 3, 8, 6, 5, 8, 7, 7, 5, 7, 3, 5, 6, 5, 5, 0, 7, 1, 6, 1, 3, 7, 5, 6, 5, 1, 1, 7, 4, 1, 1, 1, 7, 8, 9, 0, 2, 9, 1, 5, 3, 3, 2, 9, 2, 6, 0, 0, 2, 8, 1, 4, 7, 3, 2, 6, 0, 9, 9, 9, 5, 7, 3, 9, 5, 6, 6, 1, 4, 3, 7, 0, 1, 9, 2, 3, 4, 9, 6, 3, 9, 9, 5, 6, 4, 9, 4, 7, 1, 0, 1, 0, 1, 3, 2, 7, 7, 2, 3, 3, 0, 9, 8, 4, 2, 1, 6, 7, 8, 1, 0, 4, 4, 9, 7, 7, 1, 9, 5, 4, 9, 1, 3, 9, 0, 6, 9, 8, 5, 5, 3, 6, 7, 7, 1, 8, 2, 4, 3, 2, 9, 6, 2, 4, 6, 0, 3, 9, 3, 3, 1, 0, 0, 7, 1, 7, 1, 1, 2, 7, 7, 8, 9, 6, 1, 0, 3, 7, 8, 4, 0, 8, 9, 1, 6, 7, 2, 1, 9, 3, 8, 5, 6, 6, 0, 2, 7, 6, 6, 4, 9, 8, 3, 6, 3, 7, 8, 3, 4, 5, 3, 8, 4, 1, 5, 0, 4, 3, 5, 0, 4, 6, 2, 3, 1, 9, 5, 0, 1, 9, 5, 2, 5, 6, 5, 1, 7, 8, 1, 9, 3, 1, 2, 8, 7, 4, 0, 5, 4, 9, 1, 1, 8, 6, 3, 0, 3, 1, 3, 3, 4, 3, 0, 7, 6, 6, 3, 6, 9, 0, 3, 0, 1, 4, 9, 4, 9, 9, 8, 1, 4, 7, 9, 0, 0, 4, 1, 1, 5, 7, 5, 5, 8, 6, 1, 5, 9, 1, 9, 7, 7, 9, 7, 6, 7, 9, 8, 8, 6, 9, 6, 9, 9, 4, 7, 6, 6, 4, 9, 5, 2, 3, 6, 5, 1, 6, 7, 4, 7, 0, 2, 7, 8, 4, 0, 0, 8, 8, 1, 8, 7, 4, 8, 1, 9, 5, 7, 8, 6, 9, 1, 5, 8, 2, 9, 6, 1, 8, 1, 9, 2, 4, 5, 1, 3, 7, 9, 1, 4, 0, 7, 7, 4, 2, 0, 3, 2, 5, 8, 1, 5, 7, 9, 8, 5, 9, 8, 8, 6, 7, 1, 3, 9, 1, 8, 1, 1, 5, 3, 9, 1, 3, 2, 1, 6, 1, 4, 2, 2, 1, 7, 7, 5, 4, 5, 0, 1, 7, 8, 7, 3, 3, 0, 9, 1, 1, 8, 3, 1, 7, 3, 4, 0, 5, 3, 5, 7, 3, 3, 8, 4, 4, 2, 4, 7, 3, 9, 1, 9, 9, 7, 9, 4, 8, 5, 4, 0, 5, 6, 7, 1, 0, 3, 2, 8, 0, 7, 0, 0, 6, 7, 4, 4, 9, 1, 8, 5, 3, 9, 3, 5, 5, 6, 3, 6, 1, 6, 2, 7, 8, 7, 3, 8, 5, 2, 8, 8, 8, 0, 4, 7, 4, 5, 9, 8, 4, 9, 7, 4, 2, 6, 9, 8, 4, 9, 6, 0, 5, 5, 6, 8, 3, 5, 4, 5, 1, 3, 7, 4, 3, 4, 8, 6, 1, 1, 3, 8, 6, 1, 2, 2, 2, 0, 1, 9, 7, 0, 1, 0, 3, 1, 9, 1, 4, 7, 9, 3, 2, 6, 0, 4, 2, 0, 9, 8, 4, 1, 5, 9, 2, 4, 8, 7, 8, 5, 6, 2, 3, 1, 1, 7, 0, 4, 8, 8, 4, 3, 3, 5, 5, 3, 3, 1, 5, 0, 2, 5, 0, 6, 8, 2, 6, 1, 0, 7, 0, 8, 2, 5, 9, 8, 6, 3, 2, 4, 3, 2, 5, 9, 4, 3, 0, 3, 1, 1, 0, 1, 4, 2, 1, 8, 1, 6, 8, 4, 3, 5, 3, 4, 3, 3, 1, 2, 8, 4, 5, 9, 9, 8, 8, 4, 9, 7, 3, 3, 0, 5, 9, 5, 8, 3, 4, 1, 8, 1, 4, 7, 7, 4, 9, 6, 8, 7, 8, 3, 7, 0, 2, 3, 4, 7, 1, 8, 7, 3, 1, 9, 1, 8, 2, 5, 4, 3, 7, 1, 5, 6, 6, 8, 1, 1, 7, 6, 9, 6, 7, 8, 3, 0, 6, 2, 6, 6, 8, 9, 0, 8, 2, 7, 6, 0, 2, 9, 3, 4, 2, 7, 4, 9, 0, 5, 3, 5, 9, 1, 5, 6, 8, 0, 4, 0, 3, 4, 8, 3, 1, 9, 2, 9, 1, 5, 3, 1, 4, 4, 7, 4, 2, 6, 2, 6, 2, 9, 8, 4, 5, 1, 7, 6, 2, 9, 2, 0, 0, 4, 8, 2, 7, 7, 4, 3, 3, 3, 4, 5, 9, 1, 9, 5, 7, 1, 5, 9, 9, 9, 6, 2, 9, 6, 1, 3, 6, 3, 2, 9, 9, 3, 4, 9, 1, 5, 5, 4, 6, 9, 8, 6, 4, 0, 6, 6, 5, 1, 9, 0, 0, 3, 2, 1, 1, 2, 9, 3, 4, 7, 5, 2, 0, 5, 0, 5, 8, 7, 3, 8, 0, 8, 0, 0, 0, 6, 7, 5, 1, 5, 9, 1, 7, 8, 4, 4, 6, 8, 4, 6, 4, 9, 6, 0, 0, 3, 4, 3, 8, 0, 2, 5, 0, 9, 6, 2, 7, 2, 4, 4, 1, 0, 1, 0, 0, 4, 8, 4, 5, 8, 6, 8, 0, 8, 0, 8, 5, 0, 3, 5, 3, 8, 2, 2, 3, 7, 8, 7, 0, 3, 1, 7, 6, 1, 8, 3, 5, 8, 4, 8, 4, 0, 3, 6, 0, 4, 2, 0, 7, 5, 8, 8, 1, 4, 1, 8, 7, 0, 7, 7, 3, 1, 5, 2, 6, 1, 2, 4, 1, 6, 2, 7, 8, 1, 1, 9, 3, 8, 9, 3, 5, 9, 7, 5, 5, 5, 1, 7, 8, 2, 5, 6, 7, 9, 3, 0, 9, 9, 4, 1, 3, 6, 5, 1, 5, 7, 9, 8, 6, 9, 6, 7, 9, 2, 7, 6, 8, 7, 6, 8, 9, 5, 3, 7, 3, 9, 1, 0, 1, 6, 6, 0, 8, 5, 0, 0, 6, 7, 7, 0, 0, 9, 8, 4, 7, 0, 4, 5, 2, 1, 9, 1, 4, 0, 3, 6, 6, 2, 6, 8, 0, 1, 6, 0, 2, 6, 6, 4, 5, 6, 3, 0, 9, 6, 5, 6, 9, 6, 3, 5, 8, 1, 7, 5, 5, 2, 6, 1, 0, 7, 1, 4, 7, 8, 6, 9, 2, 6, 7, 6, 6, 4, 2, 4, 2, 4, 9, 2, 3, 2, 6, 6, 9, 3, 2, 9, 3, 1, 2, 9, 8, 9, 9, 0, 3, 4, 4, 6, 9, 0, 6, 2, 4, 5, 4, 8, 1, 7, 9, 3, 4, 5, 6, 8, 6, 7, 3, 8, 4, 1, 6, 8, 5, 1, 6, 0, 9, 9, 9, 5, 0, 5, 1, 2, 9, 2, 0, 3, 0, 6, 8, 8, 4, 6, 3, 7, 1, 4, 3, 5, 2, 3, 5, 8, 2, 2, 3, 3, 4, 3, 2, 3, 9, 6, 7, 7, 0, 8, 7, 2, 4, 3, 8, 8, 7, 8, 8, 9, 8, 8, 2, 0, 5, 6, 5, 8, 7, 6, 7, 9, 3, 9, 8, 5, 1, 6, 3, 4, 4, 3, 9, 7, 7, 1, 5, 0, 2, 9, 1, 0, 8, 3, 2, 0, 7, 5, 6, 0, 4, 1, 2, 0, 3, 1, 2, 2, 7, 2, 7, 5, 4, 5, 7, 1, 6, 1, 0, 6, 8, 5, 0, 7, 3, 9, 2, 4, 4, 3, 1, 0, 0, 3, 3, 6, 5, 1, 3, 3, 9, 4, 1, 4, 9, 6, 7, 0, 1, 1, 6, 9, 5, 4, 7, 3, 9, 0, 3, 8, 6, 0, 3, 5, 1, 1, 2, 2, 3, 1, 7, 2, 9, 4, 5, 0, 2, 1, 1, 6, 2, 1, 4, 8, 6, 1, 1, 6, 1, 9, 6, 7, 5, 6, 1, 2, 5, 0, 9, 6, 5, 9, 2, 9, 2, 1, 5, 9, 7, 1, 3, 2, 3, 6, 1, 0, 6, 0, 5, 4, 1, 1, 8, 1, 0, 8, 7, 6, 7, 8, 9, 0, 7, 2, 6, 0, 5, 4, 7, 2, 8, 0, 7, 4, 1, 3, 3, 2, 1, 8, 1, 1, 9, 6, 2, 9, 1, 8, 3, 3, 8, 3, 0, 7, 0, 4, 2, 2, 0, 6, 3, 8, 9, 2, 0, 6, 4, 7, 0, 3, 0, 6, 5, 3, 4, 5, 1, 3, 8, 1, 2, 5, 3, 9, 1, 5, 1, 8, 4, 5, 9, 3, 0, 6, 9, 5, 7, 9, 7, 8, 1, 0, 7, 3, 1, 3, 9, 1, 6, 1, 2, 0, 7, 3, 3, 7, 9, 3, 6, 6, 6, 9, 9, 4, 3, 1, 9, 0, 9, 5, 3, 0, 7, 9, 5, 3, 5, 4, 7, 2, 9, 1, 6, 2, 6, 5, 9, 7, 6, 0, 0, 9, 6, 2, 6, 8, 5, 0, 6, 6, 3, 2, 8, 3, 9, 1, 2, 8, 2, 2, 6, 6, 4, 0, 0, 3, 6, 6, 7, 9, 3, 1, 6, 9, 8, 9, 1, 2, 6, 5, 7, 9, 4, 6, 0, 9, 4, 9, 8, 5, 7, 8, 3, 5, 6, 9, 6, 8, 0, 6, 6, 3, 0, 0, 2, 7, 4, 5, 6, 8, 4, 3, 6, 7, 4, 5, 1, 2, 3, 1, 8, 1, 2, 2, 2, 0, 2, 1, 4, 2, 6, 2, 5, 1, 6, 4, 5, 6, 2, 3, 2, 1, 9, 9, 6, 1, 7, 6, 2, 0, 0, 1, 8, 9, 9, 1, 9, 9, 3, 0, 6, 9, 7, 2, 1, 1, 4, 4, 7, 0, 4, 0, 6, 2, 0, 9, 1, 8, 5, 1, 0, 7, 6, 1, 1, 9, 8, 4, 2, 7, 1, 3, 7, 7, 0, 3, 6, 0, 0, 0, 1, 6, 5, 8, 8, 0, 6, 9, 8, 9, 4, 6, 4, 2, 2, 7, 8, 3, 7, 1, 4, 4, 1, 4, 7, 7, 0, 9, 3, 6, 4, 4, 5, 1, 6, 5, 4, 2, 7, 8, 1, 0, 2, 7, 9, 2, 8, 1, 2, 4, 6, 4, 9, 7, 0, 5, 2, 5, 0, 6, 9, 3, 4, 1, 4, 5, 8, 0, 4, 3, 8, 0, 0, 6, 1, 9, 0, 1, 0, 4, 1, 9, 0, 9, 9, 1, 6, 6, 1, 9, 4, 4, 5, 1, 2, 9, 3, 1, 4, 4, 7, 7, 4, 4, 9, 3, 6, 0, 7, 8, 4, 0, 6, 8, 4, 9, 5, 4, 9, 7, 1, 6, 4, 4, 6, 9, 5, 0, 4, 6, 3, 0, 1, 1, 2, 5, 0, 2, 0, 8, 0, 8, 0, 9, 2, 6, 3, 0, 0, 8, 1, 3, 7, 7, 8, 3, 7, 5, 7, 8, 2, 7, 0, 7, 6, 7, 0, 2, 7, 3, 9, 0, 9, 7, 4, 7, 0, 8, 0, 9, 0, 6, 0, 6, 4, 0, 4, 4, 3, 2, 5, 3, 1, 7, 3, 9, 3, 6, 9, 1, 5, 1, 3, 2, 8, 4, 0, 4, 2, 3, 1, 2, 0, 3, 6, 1, 4, 6, 5, 7, 8, 6, 0, 6, 9, 2, 2, 6, 5, 7, 9, 3, 6, 2, 6, 0, 4, 5, 4, 1, 7, 6, 3, 4, 4, 7, 8, 6, 4, 0, 2, 7, 0, 3, 8, 4, 8, 8, 2, 0, 9, 1, 5, 7, 9, 8, 0, 7, 8, 5, 6, 5, 1, 4, 2, 9, 0, 1, 2, 0, 0, 4, 5, 1, 3, 0, 1, 7, 6, 4, 5, 8, 2, 1, 0, 8, 6, 9, 5, 8, 7, 3, 7, 7, 2, 1, 8, 7, 6, 6, 7, 7, 3, 0, 0, 1, 8, 2, 3, 1, 4, 5, 5, 5, 9, 0, 0, 0, 7, 9, 4, 3, 1, 5, 4, 8, 2, 7, 5, 1, 9, 7, 8, 5, 4, 1, 0, 9, 9, 4, 4, 8, 5, 3, 2, 3, 6, 0, 7, 1, 4, 4, 7, 1, 8, 1, 9, 6, 5, 4, 0, 2, 5, 8, 3, 2, 9, 8, 0, 4, 5, 1, 2, 6, 7, 8, 5, 8, 7, 9, 1, 7, 0, 3, 4, 7, 8, 2, 0, 0, 1, 5, 3, 2, 0, 8, 7, 1, 7, 1, 5, 6, 1, 2, 1, 5, 4, 1, 2, 4, 7, 2, 3, 9, 7, 8, 7, 3, 2, 5, 4, 7, 8, 0, 7, 3, 1, 3, 6, 2, 9, 9, 4, 6, 3, 7, 8, 5, 5, 0, 4, 7, 3, 9, 1, 3, 3, 2, 1, 9, 0, 7, 2, 3, 7, 6, 6, 2, 0, 5, 6, 7, 2, 9, 0, 1, 7, 6, 7, 3, 0, 8, 5, 6, 7, 3, 7, 4, 5, 1, 8, 2, 9, 0, 9, 4, 5, 0, 8, 1, 2, 0, 5, 8, 0, 0, 4, 4, 7, 0, 1, 9, 6, 5, 6, 0, 4, 9, 7, 5, 7, 1, 5, 1, 3, 1, 2, 1, 5, 0, 4, 7, 9, 7, 3, 0, 8, 2, 5, 3, 6, 8, 9, 6, 3, 7, 9, 1, 5, 7, 2, 6, 5, 6, 3, 8, 9, 3, 9, 0, 2, 3, 3, 2, 7, 5, 0, 1, 4, 6, 3, 8, 2, 1, 3, 8, 0, 1, 1, 7, 9, 3, 8, 7, 5, 6, 0, 0, 1, 7, 3, 2, 4, 2, 7, 0, 8, 4, 3, 2, 4, 9, 3, 9, 1, 0, 8, 2, 4, 1, 9, 8, 2, 1, 9, 9, 4, 9, 5, 7, 3, 7, 6, 1, 6, 7, 5, 2, 0, 1, 3, 1, 3, 7, 1, 2, 6, 7, 9, 2, 2, 4, 7, 4, 8, 5, 6, 9, 9, 7, 4, 0, 2, 3, 2, 1, 4, 6, 9, 3, 6, 4, 9, 2, 4, 8, 2, 1, 0, 4, 0, 6, 7, 9, 5, 4, 3, 5, 4, 5, 5, 0, 5, 3, 3, 6, 1, 6, 5, 8, 6, 2, 8, 9, 0, 6, 6, 1, 9, 4, 5, 1, 2, 4, 2, 6, 8, 2, 7, 4, 6, 3, 4, 4, 6, 3, 5, 2, 7, 0, 1, 3, 8, 5, 8, 3, 1, 4, 3, 7, 0, 7, 8, 0, 5, 9, 6, 7, 2, 1, 8, 0, 1, 4, 8, 4, 6, 8, 6, 4, 4, 7, 0, 7, 4, 1, 0, 4, 5, 2, 5, 0, 3, 5, 3, 0, 9, 0, 2, 5, 3, 2, 1, 8, 1, 9, 3, 3, 2, 1, 4, 9, 3, 4, 8, 1, 0, 8, 8, 0, 6, 2, 9, 3, 3, 6, 4, 1, 4, 3, 0, 4, 4, 2, 9, 1, 6, 9, 1, 2, 4, 7, 7, 6, 8, 0, 2, 8, 6, 1, 1, 0, 1, 9, 3, 2, 3, 1, 2, 3, 2, 9, 6, 5, 4, 3, 5, 3, 6, 1, 7, 4, 6, 8, 0, 3, 6, 9, 1, 9, 2, 5, 4, 5, 9, 3, 8, 9, 6, 3, 6, 3, 2, 7, 1, 0, 1, 8, 2, 3, 8, 8, 8, 4, 9, 0, 3, 1, 2, 6, 2, 2, 2, 7, 6, 9, 8, 0, 4, 5, 3, 1, 7, 8, 3, 2, 6, 1, 1, 2, 1, 2, 2, 9, 1, 5, 3, 6, 6, 8, 1, 6, 6, 2, 1, 9, 6, 4, 8, 4, 1, 3, 5, 2, 2, 7, 6, 7, 9, 3, 1, 1, 2, 4, 1, 0, 9, 4, 7, 8, 2, 4, 9, 9, 1, 4, 2, 8, 8, 8, 8, 6, 2, 1, 0, 2, 6, 2, 9, 6, 4, 2, 6, 6, 4, 6, 7, 9, 7, 3, 7, 3, 6, 1, 7, 7, 0, 8, 3, 8, 3, 5, 7, 2, 1, 2, 0, 7, 2, 4, 4, 9, 5, 1, 8, 4, 9, 3, 8, 8, 8, 5, 8, 1, 2, 6, 1, 5, 2, 2, 1, 4, 3, 6, 5, 8, 3, 6, 3, 2, 1, 7, 8, 1, 1, 1, 9, 2, 3, 2, 9, 1, 0, 6, 7, 5, 2, 3, 9, 8, 2, 8, 2, 6, 1, 4, 5, 8, 1, 1, 3, 0, 7, 9, 2, 1, 7, 0, 0, 2, 7, 7, 9, 3, 9, 8, 8, 9, 0, 5, 1, 0, 6, 9, 1, 3, 2, 6, 3, 3, 4, 5, 0, 4, 2, 8, 8, 7, 5, 2, 4, 4, 8, 8, 3, 2, 7, 2, 2, 2, 3, 0, 9, 5, 9, 8, 7, 1, 3, 8, 6, 7, 2, 1, 2, 5, 3, 4, 8, 8, 0, 5, 9, 0, 6, 6, 3, 8, 5, 0, 7, 5, 1, 2, 7, 8, 1, 1, 3, 7, 6, 7, 0, 5, 2, 6, 7, 4, 5, 4, 7, 5, 4, 2, 2, 6, 7, 3, 5, 0, 1, 2, 8, 4, 0, 7, 7, 5, 6, 2, 1, 0, 8, 9, 6, 0, 7, 7, 8, 8, 1, 1, 9, 4, 9, 8, 1, 5, 5, 0, 8, 7, 3, 9, 5, 5, 7, 5, 6, 1, 1, 3, 9, 1, 1, 5, 4, 5, 8, 0, 5, 3, 2, 0, 2, 9, 4, 2, 0, 0, 8, 2, 3, 0, 6, 1, 3, 4, 2, 8, 0, 1, 1, 8, 4, 2, 7, 7, 9, 7, 4, 1, 1, 4, 1, 1, 1, 5, 1, 3, 4, 5, 2, 9, 8, 0, 6, 0, 9, 8, 5, 0, 3, 1, 0, 2, 1, 7, 6, 0, 6, 5, 7, 0, 8, 1, 6, 6, 9, 8, 3, 6, 1, 3, 4, 9, 7, 9, 3, 5, 1, 1, 7, 5, 5, 2, 7, 6, 4, 3, 0, 0, 7, 0, 8, 5, 4, 0, 3, 7, 5, 5, 4, 3, 2, 2, 1, 3, 3, 3, 2, 6, 4, 5, 0, 0, 0, 1, 6, 1, 2, 9, 6, 1, 1, 7, 1, 1, 6, 7, 2, 5, 1, 9, 8, 7, 3, 4, 1, 3, 2, 4, 9, 2, 8, 4, 9, 4, 7, 9, 4, 7, 7, 3, 5, 8, 7, 3, 4, 7, 5, 6, 9, 5, 2, 5, 4, 5, 2, 5, 4, 8, 5, 1, 6, 8, 1, 3, 3, 4, 2, 6, 0, 7, 5, 1, 3, 9, 8, 6, 8, 5, 3, 1, 7, 6, 9, 0, 1, 8, 7, 0, 1, 5, 5, 0, 2, 0, 8, 0, 6, 6, 9, 3, 5, 8, 2, 1, 8, 3, 7, 5, 5, 3, 5, 0, 7, 6, 4, 2, 9, 5, 5, 2, 1, 9, 0, 8, 1, 9, 9, 6, 7, 9, 6, 1, 4, 0, 5, 4, 1, 2, 3, 0, 7, 9, 9, 1, 9, 9, 2, 7, 4, 1, 4, 6, 2, 5, 8, 1, 6, 8, 9, 8, 8, 0, 2, 4, 6, 8, 5, 6, 1, 7, 1, 9, 4, 4, 9, 2, 4, 3, 4, 4, 1, 7, 1, 5, 4, 5, 8, 9, 5, 6, 5, 2, 0, 2, 4, 8, 5, 5, 2, 6, 3, 1, 7, 0, 0, 8, 8, 8, 0, 9, 2, 7, 0, 5, 3, 4, 5, 6, 4, 4, 9, 0, 2, 0, 2, 0, 8, 0, 1, 1, 5, 8, 6, 0, 7, 9, 1, 6, 6, 0, 3, 1, 4, 7, 7, 0, 8, 4, 6, 2, 3, 9, 9, 9, 9, 7, 0, 5, 6, 9, 7, 9, 0, 3, 9, 7, 8, 4, 6, 2, 2, 1, 5, 9, 1, 8, 2, 8, 4, 3, 1, 9, 4, 4, 3, 8, 5, 1, 6, 1, 1, 2, 7, 4, 3, 2, 9, 8, 3, 4, 5, 5, 9, 8, 1, 3, 1, 4, 8, 4, 9, 3, 2, 5, 8, 6, 3, 0, 3, 2, 6, 5, 1, 2, 5, 8, 9, 8, 1, 2, 9, 9, 6, 5, 5, 2, 4, 1, 8, 6, 0, 0, 9, 5, 2, 1, 2, 5, 4, 4, 3, 3, 0, 9, 5, 8, 4, 0, 1, 6, 7, 6, 4, 7, 9, 7, 2, 2, 3, 1, 0, 5, 9, 7, 5, 6, 4, 1, 2, 2, 5, 9, 3, 5, 2, 5, 3, 2, 5, 0, 0, 7, 4, 8, 9, 3, 3, 2, 8, 4, 3, 2, 9, 2, 6, 3, 8, 6, 8, 5, 9, 2, 7, 9, 0, 4, 7, 9, 9, 6, 8, 0, 6, 4, 7, 6, 4, 8, 5, 9, 4, 9, 2, 1, 4, 0, 0, 5, 2, 5, 7, 1, 8, 2, 7, 5, 7, 2, 6, 4, 3, 0, 1, 1, 1, 4, 3, 7, 6, 9, 3, 0, 2, 9, 1, 4, 3, 0, 8, 2, 0, 4, 0, 1, 3, 3, 6, 7, 1, 5, 0, 7, 3, 7, 1, 8, 5, 1, 1, 1, 3, 1, 5, 4, 2, 8, 2, 3, 3, 2, 6, 4, 5, 4, 8, 1, 4, 3, 1, 7, 5, 6, 9, 2, 2, 3, 9, 2, 7, 4, 2, 2, 4, 9, 0, 2, 1, 0, 7, 4, 1, 2, 9, 7, 9, 6, 7, 8, 1, 0, 1, 6, 6, 0, 2, 9, 1, 7, 3, 4, 7, 9, 3, 9, 4, 4, 1, 7, 6, 2, 2, 5, 9, 0, 0, 5, 8, 2, 3, 7, 7, 4, 2, 3, 8, 0, 6, 5, 1, 0, 8, 8, 6, 2, 6, 0, 5, 2, 4, 4, 7, 6, 7, 6, 7, 9, 9, 2, 3, 4, 4, 9, 4, 4, 8, 8, 6, 4, 2, 2, 6, 7, 1, 4, 3, 6, 9, 4, 6, 2, 7, 0, 0, 0, 9, 2, 3, 1, 9, 2, 5, 3, 8, 7, 8, 1, 1, 4, 8, 5, 1, 9, 3, 9, 0, 9, 1, 0, 7, 6, 4, 3, 5, 1, 9, 3, 3, 8, 0, 8, 9, 2, 6, 4, 7, 6, 0, 1, 7, 1, 7, 2, 2, 4, 0, 7, 6, 4, 2, 2, 4, 1, 8, 7, 7, 9, 2, 5, 9, 5, 2, 8, 0, 5, 6, 1, 4, 1, 7, 1, 9, 0, 0, 8, 1, 3, 6, 6, 0, 3, 8, 5, 5, 1, 9, 8, 2, 4, 5, 3, 0, 5, 5, 0, 6, 3, 0, 3, 5, 5, 0, 7, 7, 1, 7, 0, 3, 4, 5, 9, 7, 4, 4, 7, 0, 7, 7, 0, 2, 1, 7, 9, 3, 1, 1, 6, 5, 2, 3, 4, 1, 1, 8, 4, 3, 0, 3, 2, 3, 3, 3, 1, 0, 2, 0, 2, 4, 9, 3, 2, 1, 0, 5, 2, 0, 9, 4, 2, 8, 0, 7, 9, 1, 4, 3, 6, 3, 0, 0, 7, 3, 1, 7, 1, 9, 8, 9, 8, 2, 4, 9, 6, 7, 4, 7, 4, 2, 7, 4, 7, 7, 1, 4, 0, 6, 2, 2, 8, 3, 8, 8, 6, 8, 8, 9, 5, 6, 8, 7, 4, 5, 3, 4, 2, 9, 4, 6, 5, 1, 1, 2, 3, 8, 7, 8, 8, 0, 0, 0, 3, 1, 2, 5, 8, 1, 4, 0, 3, 9, 7, 2, 5, 8, 6, 7, 4, 9, 3, 8, 1, 8, 0, 0, 6, 5, 9, 5, 8, 3, 8, 1, 9, 7, 4, 6, 2, 5, 1, 3, 6, 6, 9, 0, 6, 4, 1, 9, 0, 7, 8, 0, 6, 1, 3, 1, 9, 6, 9, 9, 7, 9, 3, 1, 0, 5, 0, 8, 1, 6, 0, 0, 1, 1, 6, 2, 7, 9, 7, 8, 1, 1, 3, 1, 6, 3, 2, 2, 7, 3, 1, 0, 7, 7, 3, 4, 7, 4, 0, 6, 5, 4, 7, 6, 5, 6, 8, 5, 6, 8, 3, 3, 8, 6, 4, 3, 3, 4, 2, 9, 1, 8, 8, 6, 6, 7, 5, 4, 3, 6, 5, 6, 3, 8, 7, 1, 3, 1, 7, 7, 2, 8, 1, 3, 9, 4, 5, 8, 6, 4, 2, 1, 1, 5, 7, 1, 4, 6, 5, 8, 1, 4, 7, 5, 8, 0, 9, 7, 3, 8, 0, 4, 0, 2, 5, 4, 5, 5, 6, 1, 9, 0, 1, 8, 6, 8, 4, 6, 3, 4, 0, 7, 5, 0, 3, 7, 3, 9, 7, 0, 8, 9, 6, 3, 4, 5, 0, 3, 4, 3, 1, 1, 7, 8, 0, 1, 7, 1, 2, 0, 8, 2, 1, 3, 7, 2, 1, 9, 5, 1, 9, 9, 2, 4, 5, 1, 4, 5, 9, 8, 9, 0, 2, 6, 3, 7, 2, 6, 4, 9, 4, 4, 7, 9, 7, 4, 4, 0, 2, 1, 8, 0, 1, 7, 9, 7, 4, 4, 2, 6, 1, 3, 6, 7, 8, 7, 0, 5, 3, 1, 7, 6, 7, 9, 2, 4, 2, 7, 4, 7, 2, 1, 1, 2, 4, 4, 7, 8, 9, 4, 8, 1, 9, 8, 6, 9, 9, 5, 7, 8, 6, 4, 3, 2, 1, 4, 9, 0, 1, 6, 5, 6, 2, 4, 7, 0, 2, 8, 3, 1, 7, 1, 8, 6, 0, 9, 5, 1, 8, 9, 2, 0, 5, 0, 2, 6, 9, 5, 0, 4, 6, 1, 6, 2, 4, 2, 0, 5, 8, 8, 3, 5, 2, 9, 0, 3, 5, 2, 2, 7, 1, 9, 2, 9, 8, 1, 2, 9, 9, 3, 6, 5, 1, 6, 3, 1, 7, 9, 7, 2, 2, 6, 9, 4, 8, 1, 5, 3, 9, 1, 1, 8, 7, 8, 9, 2, 1, 0, 3, 1, 9, 7, 1, 6, 7, 4, 0, 3, 9, 2, 3, 9, 9, 8, 0, 2, 7, 1, 2, 5, 7, 9, 7, 1, 0, 9, 4, 3, 8, 6, 3, 3, 5, 4, 5, 3, 2, 4, 1, 8, 3, 6, 8, 7, 0, 8, 3, 9, 7, 8, 8, 7, 5, 7, 7, 0, 5, 7, 6, 7, 3, 5, 2, 5, 5, 6, 0, 7, 7, 3, 4, 7, 1, 3, 7, 0, 5, 9, 4, 2, 2, 7, 3, 3, 5, 6, 4, 0, 4, 3, 1, 1, 6, 9, 7, 3, 6, 7, 1, 5, 7, 2, 2, 4, 0, 2, 4, 7, 7, 3, 3, 4, 0, 3, 1, 8, 2, 9, 1, 1, 9, 0, 8, 9, 9, 3, 8, 3, 1, 1, 4, 2, 7, 2, 3, 3, 8, 8, 7, 8, 9, 1, 7, 8, 4, 0, 4, 6, 7, 6, 7, 1, 1, 1, 4, 2, 7, 0, 8, 8, 8, 2, 1, 6, 1, 4, 6, 4, 0, 4, 9, 4, 7, 5, 2, 0, 3, 9, 9, 9, 7, 3, 2, 8, 6, 9, 6, 0, 9, 1, 1, 6, 7, 8, 4, 2, 5, 0, 2, 0, 8, 2, 1, 6, 5, 3, 2, 2, 6, 5, 8, 8, 6, 4, 2, 4, 7, 8, 8, 8, 7, 6, 5, 3, 8, 6, 8, 2, 7, 0, 5, 8, 4, 3, 7, 1, 4, 7, 9, 2, 2, 8, 7, 2, 5, 1, 4, 1, 9, 4, 0, 4, 4, 8, 7, 3, 9, 0, 6, 3, 5, 0, 2, 0, 5, 6, 0, 8, 6, 4, 5, 6, 8, 7, 4, 1, 9, 3, 1, 6, 8, 3, 9, 5, 0, 0, 3, 3, 4, 3, 8, 0, 9, 2, 2, 3, 1, 1, 8, 1, 4, 3, 2, 3, 2, 1, 0, 3, 2, 1, 8, 1, 8, 7, 8, 1, 0, 2, 7, 2, 2, 4, 6, 6, 2, 7, 8, 6, 3, 2, 5, 7, 9, 0, 9, 2, 6, 5, 4, 7, 7, 8, 1, 8, 4, 1, 7, 7, 4, 9, 5, 9, 4, 1, 6, 8, 8, 0, 5, 3, 9, 4, 6, 4, 7, 5, 6, 7, 4, 4, 3, 8, 2, 2, 7, 8, 0, 7, 7, 9, 8, 8, 2, 2, 2, 2, 3, 7, 4, 0, 3, 3, 1, 1, 5, 2, 1, 0, 6, 4, 0, 6, 9, 7, 6, 9, 4, 3, 3, 6, 7, 6, 0, 2, 7, 8, 4, 9, 0, 6, 0, 8, 5, 2, 2, 6, 1, 8, 6, 7, 7, 0, 6, 3, 2, 3, 7, 7, 6, 6, 0, 8, 5, 5, 1, 4, 6, 1, 1, 3, 5, 1, 3, 6, 1, 2, 5, 8, 2, 7, 6, 6, 6, 0, 1, 6, 9, 6, 7, 9, 5, 9, 9, 5, 5, 9, 0, 2, 0, 9, 5, 0, 9, 2, 7, 9, 1, 4, 3, 4, 9, 1, 4, 9, 2, 0, 4, 9, 3, 4, 8, 3, 3, 5, 2, 0, 2, 5, 7, 5, 5, 2, 6, 8, 6, 2, 1, 8, 7, 4, 2, 0, 2, 1, 2, 9, 3, 6, 5, 7, 4, 8, 9, 6, 4, 1, 1, 2, 1, 0, 4, 2, 7, 0, 0, 9, 5, 0, 3, 8, 7, 8, 3, 6, 8, 7, 5, 5, 5, 8, 3, 6, 8, 4, 8, 7, 0, 4, 3, 2, 6, 7, 4, 2, 4, 8, 6, 4, 1, 6, 5, 0, 5, 8, 9, 8, 0, 6, 4, 5, 4, 8, 8, 1, 9, 1, 1, 2, 6, 3, 4, 7, 2, 8, 1, 6, 8, 9, 2, 9, 7, 4, 3, 6, 2, 6, 7, 9, 1, 5, 4, 6, 9, 4, 8, 2, 9, 1, 4, 0, 0, 7, 9, 4, 2, 7, 6, 6, 7, 3, 0, 2, 2, 3, 4, 1, 7, 6, 1, 9, 2, 0, 7, 2, 6, 2, 2, 5, 5, 2, 3, 0, 9, 5, 4, 2, 0, 5, 9, 3, 1, 3, 9, 1, 1, 2, 9, 7, 6, 0, 8, 5, 5, 0, 3, 7, 4, 5, 2, 9, 7, 0, 0, 4, 5, 0, 8, 2, 6, 1, 8, 7, 0, 8, 1, 2, 8, 5, 1, 3, 0, 2, 2, 3, 0, 6, 8, 7, 6, 7, 1, 3, 0, 3, 0, 4, 0, 8, 8, 6, 8, 5, 4, 9, 1, 9, 0, 9, 3, 7, 0, 7, 0, 1, 2, 8, 3, 3, 9, 3, 0, 3, 1, 6, 5, 7, 4, 6, 6, 1, 3, 4, 9, 9, 3, 9, 7, 3, 1, 6, 9, 3, 1, 4, 7, 7, 4, 3, 7, 9, 8, 8, 2, 9, 8, 1, 6, 1, 2, 7, 8, 3, 0, 8, 3, 1, 1, 2, 7, 2, 5, 6, 8, 4, 7, 4, 9, 4, 9, 2, 7, 2, 1, 6, 7, 6, 4, 6, 3, 8, 7, 7, 6, 4, 0, 6, 9, 3, 8, 9, 7, 4, 4, 7, 7, 4, 7, 2, 6, 7, 5, 1, 1, 7, 2, 1, 9, 2, 3, 3, 9, 7, 5, 0, 9, 6, 3, 1, 5, 5, 7, 3, 1, 8, 3, 4, 2, 0, 8, 2, 8, 0, 7, 6, 3, 3, 6, 8, 0, 8, 2, 7, 7, 0, 7, 2, 4, 0, 7, 3, 7, 6, 3, 9, 1, 0, 2, 2, 7, 3, 1, 8, 2, 3, 9, 1, 5, 4, 6, 6, 0, 1, 6, 3, 2, 9, 1, 5, 4, 2, 0, 6, 0, 5, 4, 9, 2, 2, 0, 5, 3, 8, 4, 8, 6, 6, 3, 0, 1, 6, 6, 3, 1, 1, 0, 9, 4, 7, 3, 8, 4, 0, 2, 4, 2, 3, 9, 1, 6, 6, 0, 8, 4, 7, 6, 7, 3, 8, 0, 2, 4, 5, 5, 0, 2, 3, 8, 0, 1, 1, 6, 5, 5, 2, 9, 2, 8, 9, 1, 2, 9, 8, 4, 9, 2, 6, 1, 8, 7, 5, 9, 9, 8, 7, 4, 9, 7, 5, 3, 5, 4, 6, 9, 8, 9, 7, 1, 3, 2, 6, 3, 1, 1, 6, 7, 1, 6, 9, 3, 1, 3, 5, 9, 6, 1, 6, 6, 8, 1, 0, 0, 6, 8, 9, 8, 8, 4, 7, 4, 6, 7, 3, 0, 6, 0, 6, 9, 5, 1, 7, 0, 7, 7, 6, 2, 6, 7, 1, 9, 9, 6, 1, 7, 2, 5, 0, 2, 1, 0, 9, 7, 8, 4, 0, 2, 4, 0, 7, 5, 9, 8, 7, 1, 1, 7, 8, 8, 8, 2, 1, 0, 1, 2, 4, 0, 1, 4, 3, 3, 2, 3, 9, 7, 3, 3, 0, 2, 0, 3, 1, 2, 2, 7, 6, 8, 8, 6, 5, 8, 4, 0, 8, 2, 9, 9, 9, 2, 4, 9, 5, 2, 0, 0, 1, 8, 7, 4, 3, 5, 8, 2, 2, 8, 3, 1, 8, 3, 6, 2, 8, 8, 2, 2, 1, 0, 3, 2, 8, 1, 8, 5, 8, 5, 3, 2, 6, 6, 0, 3, 5, 0, 4, 6, 6, 8, 0, 9, 1, 3, 3, 6, 7, 0, 5, 4, 3, 1, 2, 3, 8, 3, 5, 3, 6, 9, 6, 5, 6, 1, 0, 7, 3, 3, 7, 6, 6, 3, 3, 4, 6, 0, 3, 9, 5, 2, 2, 7, 7, 2, 8, 3, 4, 1, 3, 4, 8, 7, 8, 3, 9, 7, 6, 3, 6, 7, 9, 4, 8, 2, 4, 4, 6, 1, 4, 1, 6, 2, 9, 3, 7, 3, 4, 9, 9, 1, 2, 0, 2, 9, 6, 9, 4, 3, 4, 8, 7, 3, 9, 9, 2, 4, 8, 5, 4, 2, 4, 7, 9, 3, 0, 4, 7, 0, 1, 1, 5, 4, 6, 9, 2, 7, 0, 2, 9, 8, 4, 1, 3, 8, 3, 2, 5, 0, 3, 5, 6, 1, 1, 8, 2, 8, 6, 7, 4, 6, 0, 3, 9, 2, 0, 3, 0, 3, 3, 7, 5, 5, 9, 1, 0, 0, 3, 7, 8, 1, 1, 3, 0, 1, 2, 1, 5, 7, 5, 7, 1, 5, 7, 6, 2, 8, 8, 9, 7, 2, 5, 4, 1, 9, 4, 4, 1, 2, 2, 6, 3, 4, 4, 9, 0, 9, 6, 6, 0, 8, 9, 3, 9, 8, 7, 8, 4, 6, 1, 4, 1, 0, 2, 4, 7]\n"
     ]
    }
   ],
   "source": [
    "prediction = []\n",
    "for i in predicts:\n",
    "      prediction.append(np.argmax(i))\n",
    "print(prediction)"
   ]
  },
  {
   "cell_type": "code",
   "execution_count": 19,
   "metadata": {
    "colab": {
     "base_uri": "https://localhost:8080/"
    },
    "id": "fbdc8uv-3y6k",
    "outputId": "4c1e347f-dcdc-42f5-dc60-52f950a16d5a"
   },
   "outputs": [
    {
     "name": "stdout",
     "output_type": "stream",
     "text": [
      "[4 1 4 ... 2 4 7]\n"
     ]
    }
   ],
   "source": [
    "print(target_test)"
   ]
  },
  {
   "cell_type": "code",
   "execution_count": 20,
   "metadata": {
    "colab": {
     "base_uri": "https://localhost:8080/"
    },
    "id": "A44QA2_T_tAi",
    "outputId": "e54fcdbd-39a1-40d3-86ca-b279b34b62fd"
   },
   "outputs": [
    {
     "name": "stdout",
     "output_type": "stream",
     "text": [
      "predicted values  Actual values\n",
      "4 \t\t\t 4\n",
      "1 \t\t\t 1\n",
      "4 \t\t\t 4\n",
      "7 \t\t\t 7\n",
      "7 \t\t\t 7\n",
      "6 \t\t\t 6\n",
      "4 \t\t\t 4\n",
      "7 \t\t\t 7\n",
      "7 \t\t\t 7\n",
      "3 \t\t\t 3\n"
     ]
    }
   ],
   "source": [
    "print(\"predicted values  Actual values\")  # comparing first 10 predicted and actual values\n",
    "for i in range(10):\n",
    "  print(prediction[i],\"\\t\\t\\t\",target_test[i])"
   ]
  },
  {
   "cell_type": "code",
   "execution_count": 21,
   "metadata": {
    "colab": {
     "base_uri": "https://localhost:8080/"
    },
    "id": "-BhI4DiUM4VN",
    "outputId": "d1bee8a4-2bc8-473a-f7dd-05a7f8e362d7"
   },
   "outputs": [
    {
     "name": "stdout",
     "output_type": "stream",
     "text": [
      "accuracy: 0.99\n"
     ]
    }
   ],
   "source": [
    "accuracy=accuracy_score(target_test, prediction) # accuracy score of actual and predicted values\n",
    "print('accuracy: %.2f' % accuracy)"
   ]
  },
  {
   "cell_type": "code",
   "execution_count": 22,
   "metadata": {
    "colab": {
     "base_uri": "https://localhost:8080/",
     "height": 460
    },
    "id": "_VSnmg9mD92y",
    "outputId": "fc0d1ab4-a46d-4b25-b740-afa2ee38be8c"
   },
   "outputs": [
    {
     "data": {
      "text/plain": [
       "Text(87.0, 0.5, 'Predicted label')"
      ]
     },
     "execution_count": 22,
     "metadata": {},
     "output_type": "execute_result"
    },
    {
     "data": {
      "image/png": "[encoded data removed]",
      "text/plain": [
       "<Figure size 864x504 with 2 Axes>"
      ]
     },
     "metadata": {
      "needs_background": "light"
     },
     "output_type": "display_data"
    }
   ],
   "source": [
    "plt.figure(figsize=(12,7))\n",
    "cm = confusion_matrix(target_test,prediction)\n",
    "ax = sns.heatmap(cm, annot=True, fmt=\"d\")\n",
    "plt.xlabel('True label')\n",
    "plt.ylabel('Predicted label')"
   ]
  },
  {
   "cell_type": "code",
   "execution_count": 23,
   "metadata": {
    "colab": {
     "base_uri": "https://localhost:8080/"
    },
    "id": "CcI4sBT9b9JK",
    "outputId": "9c1d4407-14bd-4b4b-e3af-bc319a7bbaf6"
   },
   "outputs": [
    {
     "name": "stdout",
     "output_type": "stream",
     "text": [
      "precision: 0.991\n"
     ]
    }
   ],
   "source": [
    "#Of all the labels that model predicted, what is the percentage of them are correct\n",
    "precision = precision_score(target_test, prediction, average='micro')\n",
    "print('precision: %.3f' % precision)"
   ]
  },
  {
   "cell_type": "code",
   "execution_count": 24,
   "metadata": {
    "colab": {
     "base_uri": "https://localhost:8080/"
    },
    "id": "H9MrPYVxcgEV",
    "outputId": "7bb1b4dd-cb5b-4f84-d540-43721eb78ddd"
   },
   "outputs": [
    {
     "name": "stdout",
     "output_type": "stream",
     "text": [
      "Recall: 0.991\n"
     ]
    }
   ],
   "source": [
    "#Of all the actual labels, what is the percentage of them are predicted correctly\n",
    "recall=recall_score(target_test, prediction, average='micro')\n",
    "print('Recall: %.3f' % recall)"
   ]
  },
  {
   "cell_type": "code",
   "execution_count": 25,
   "metadata": {
    "colab": {
     "base_uri": "https://localhost:8080/"
    },
    "id": "kacoasYmc-wi",
    "outputId": "c48801dd-5841-4509-b0a4-6ed5711ccaa2"
   },
   "outputs": [
    {
     "name": "stdout",
     "output_type": "stream",
     "text": [
      "F-Measure: 0.991\n"
     ]
    }
   ],
   "source": [
    "score = f1_score(target_test, prediction, average='micro')\n",
    "print('F-Measure: %.3f' % score)"
   ]
  },
  {
   "cell_type": "markdown",
   "metadata": {
    "id": "jVTQ3vwZpyNz"
   },
   "source": [
    "# **Predicting class label of a single image**"
   ]
  },
  {
   "cell_type": "code",
   "execution_count": 27,
   "metadata": {
    "colab": {
     "base_uri": "https://localhost:8080/"
    },
    "id": "gTrJmT1FE3mG",
    "outputId": "ecc08190-f5dc-414f-921a-159489c3f11e"
   },
   "outputs": [],
   "source": [
    "img = load_img(\"number.png\", grayscale=True, target_size=(28, 28))\n",
    "\t# convert to array\n",
    "img = img_to_array(img)\n",
    "\t# reshape into a single sample with 1 channel\n",
    "img = img.reshape(1,28, 28, 1)\n",
    "\t# prepare pixel data\n",
    "img = img.astype('float32')\n",
    "img = img / 255.0"
   ]
  },
  {
   "cell_type": "code",
   "execution_count": 28,
   "metadata": {
    "colab": {
     "base_uri": "https://localhost:8080/"
    },
    "id": "DJoyVzRr10SY",
    "outputId": "efc01954-0223-4d5d-897d-4c681c84d8f1"
   },
   "outputs": [
    {
     "name": "stdout",
     "output_type": "stream",
     "text": [
      "6\n"
     ]
    }
   ],
   "source": [
    "val = model.predict(img)\n",
    "predicted_value = np.argmax(val)\n",
    "print(predicted_value)"
   ]
  }
 ],
 "metadata": {
  "colab": {
   "name": "final project.ipynb",
   "provenance": []
  },
  "kernelspec": {
   "display_name": "Python 3 (ipykernel)",
   "language": "python",
   "name": "python3"
  },
  "language_info": {
   "codemirror_mode": {
    "name": "ipython",
    "version": 3
   },
   "file_extension": ".py",
   "mimetype": "text/x-python",
   "name": "python",
   "nbconvert_exporter": "python",
   "pygments_lexer": "ipython3",
   "version": "3.9.7"
  }
 },
 "nbformat": 4,
 "nbformat_minor": 1
}
